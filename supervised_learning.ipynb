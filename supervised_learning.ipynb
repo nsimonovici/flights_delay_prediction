{
 "cells": [
  {
   "cell_type": "code",
   "execution_count": 1,
   "metadata": {},
   "outputs": [
    {
     "data": {
      "text/html": [
       "<style>.container { width:80% !important; }</style>"
      ],
      "text/plain": [
       "<IPython.core.display.HTML object>"
      ]
     },
     "metadata": {},
     "output_type": "display_data"
    }
   ],
   "source": [
    "from IPython.core.display import display, HTML\n",
    "display(HTML(\"<style>.container { width:80% !important; }</style>\"))"
   ]
  },
  {
   "cell_type": "code",
   "execution_count": 2,
   "metadata": {},
   "outputs": [],
   "source": [
    "def display_progress_bar(n_tot, n_prog) :\n",
    "    from time import sleep\n",
    "    progress = math.ceil((n_prog + 1) * 100 / n_tot)\n",
    "    sys.stdout.write('\\r')\n",
    "    sys.stdout.write(\"[%-100s] %d%%\" %('='*progress, progress))\n",
    "    sys.stdout.flush()\n",
    "    sleep(0.25)"
   ]
  },
  {
   "cell_type": "code",
   "execution_count": 3,
   "metadata": {},
   "outputs": [],
   "source": [
    "def func(date_time) :\n",
    "    \"\"\"\n",
    "    Routine converting time of day to number of seconds\n",
    "    \"\"\"\n",
    "    seconds = date_time.hour * 3600 + date_time.minute * 60 + date_time.second\n",
    "    return seconds"
   ]
  },
  {
   "cell_type": "code",
   "execution_count": 4,
   "metadata": {},
   "outputs": [],
   "source": [
    "def display_metrics(description, model, X_test, y_test) :\n",
    "    \"\"\"\n",
    "    Routine to automate metrics calculation and display\n",
    "    \"\"\"\n",
    "    prediction = model.predict(X_test)\n",
    "    # Get Root Mean Squared Error\n",
    "    mse = metrics.mean_squared_error(y_test, prediction)\n",
    "    rmse = math.sqrt(mse)\n",
    "    # Get Mean Absolute Error\n",
    "    mae = metrics.mean_absolute_error(y_test, prediction)\n",
    "    # Get Dtermination Coefficient\n",
    "    r2 = metrics.r2_score(y_test, prediction)\n",
    "    # Display\n",
    "    print(description + \" : RMSE : %.2f, MAE : %.2f, R² : %.2f\" %(rmse, mae, r2))\n",
    "    return prediction"
   ]
  },
  {
   "cell_type": "code",
   "execution_count": 5,
   "metadata": {},
   "outputs": [],
   "source": [
    "def pred_mse(test, predicted) :\n",
    "    \"\"\"\n",
    "    Looking at each prediction and computing mse/rmse\n",
    "    Return statistics on mse prediction\n",
    "    \"\"\"\n",
    "    predict_df = pd.DataFrame()\n",
    "    predict_df.loc[:, 'target'] = test\n",
    "    predict_df.loc[:, 'pred'] = predicted\n",
    "    predict_df.loc[:, 'mse'] = predict_df.loc[:, 'pred'].sub(predict_df.loc[:, 'target'], axis=0).apply(lambda x : math.pow(x, 2))\n",
    "    return predict_df, predict_df.loc[:, 'mse'].describe()"
   ]
  },
  {
   "cell_type": "code",
   "execution_count": 6,
   "metadata": {},
   "outputs": [],
   "source": [
    "def grid_search(X_train, y_train, X_test, y_test, model, n_alphas, logmin, logmax) :\n",
    "    \"\"\"\n",
    "    Grid search function\n",
    "    \"\"\"\n",
    "\n",
    "    # Set n alphas for a grid search crossed-validation\n",
    "    alphas = np.logspace(logmin, logmax, n_alphas)\n",
    "    \n",
    "    # Initialisations\n",
    "    count=0                              # For progression display\n",
    "    best_rmse = 9999                     # Best RMSE of the grid search\n",
    "    best_alpha = 0                       # Best Alpha of the grid search\n",
    "    best_ridge = copy.deepcopy(model)    # Best model of the grid search\n",
    "\n",
    "    # Grid search\n",
    "    for a in alphas :\n",
    "        # Set model\n",
    "        model.set_params(alpha=a)\n",
    "        model.fit(X_train, y_train)\n",
    "        # Get RMSE\n",
    "        mse_temp = metrics.mean_squared_error(y_test, model.predict(X_test))\n",
    "        rmse_temp = math.sqrt(mse_temp)\n",
    "        # Look for best alpha parameter\n",
    "        if rmse_temp < best_rmse :\n",
    "            best_alpha = a\n",
    "            best_ridge = copy.deepcopy(model)\n",
    "\n",
    "        display_progress_bar(len(alphas),count)\n",
    "        count+=1\n",
    "    \n",
    "    return best_ridge, best_alpha"
   ]
  },
  {
   "cell_type": "code",
   "execution_count": 7,
   "metadata": {},
   "outputs": [],
   "source": [
    "def time_cross_validation(model, X, y, n_alphas, n_splits, gs=True) :\n",
    "    \"\"\"\n",
    "    Cross validation function with a grid search over alpha parameter for Ridge Regression\n",
    "    \"\"\"\n",
    "    \n",
    "    # Create time splits\n",
    "    tscv = model_selection.TimeSeriesSplit(n_splits=n_splits)\n",
    "\n",
    "    # Initialise outputs\n",
    "    errors_cv = []\n",
    "    alphas_cv = []\n",
    "    \n",
    "    # Initialise splits count\n",
    "    num_split = 1\n",
    "\n",
    "    # Time cross--validation\n",
    "    for train_index, test_index in tscv.split(X):\n",
    "        # Create train and test sets\n",
    "        X_train_cv, X_test_cv = X.iloc[train_index, :], X.iloc[test_index, :]\n",
    "        y_train_cv, y_test_cv = y.iloc[train_index], y.iloc[test_index]\n",
    "\n",
    "        if gs :\n",
    "            best_model, best_alpha = grid_search(X_train_cv, y_train_cv, X_test_cv, y_test_cv, model,\n",
    "                                                 n_alphas, 1, 10)\n",
    "        else :\n",
    "            model.fit(X_train_cv, y_train_cv)\n",
    "            best_model = model\n",
    "            best_alpha = NaN\n",
    "        \n",
    "        # Get split model errors with best grid search model\n",
    "        mse_cv = metrics.mean_squared_error(y_test_cv, best_model.predict(X_test_cv))\n",
    "        rmse_cv = math.sqrt(mse_cv)\n",
    "        mae_cv = metrics.mean_absolute_error(y_test_cv, best_model.predict(X_test_cv))\n",
    "        r2_cv = metrics.r2_score(y_test_cv, best_model.predict(X_test_cv))\n",
    "        # Save errors\n",
    "        errors_cv.append([mae_cv, rmse_cv, r2_cv])\n",
    "        # Save best alpha for this time split\n",
    "        alphas_cv.append(best_alpha)\n",
    "        # Display\n",
    "        display_metrics(\"\\nModel regression for split number \" + str(num_split), best_model, X_test_cv, y_test_cv)\n",
    "        # Loop\n",
    "        num_split += 1\n",
    "        \n",
    "    return errors_cv, alphas_cv"
   ]
  },
  {
   "cell_type": "markdown",
   "metadata": {},
   "source": [
    "# 1) Importations"
   ]
  },
  {
   "cell_type": "code",
   "execution_count": 8,
   "metadata": {},
   "outputs": [
    {
     "name": "stdout",
     "output_type": "stream",
     "text": [
      "Populating the interactive namespace from numpy and matplotlib\n"
     ]
    }
   ],
   "source": [
    "%pylab inline\n",
    "import pandas as pd\n",
    "import os\n",
    "import sys\n",
    "import seaborn as sns\n",
    "from sklearn import preprocessing, metrics, linear_model, model_selection, dummy\n",
    "import scipy as sp\n",
    "import math\n",
    "import time\n",
    "import copy\n",
    "from dateutil import parser\n",
    "import pickle"
   ]
  },
  {
   "cell_type": "markdown",
   "metadata": {},
   "source": [
    "# 2) Data loading"
   ]
  },
  {
   "cell_type": "code",
   "execution_count": 9,
   "metadata": {},
   "outputs": [],
   "source": [
    "# Getting current path\n",
    "path = os.getcwd()\n",
    "\n",
    "# Verifying data presence\n",
    "try :\n",
    "#     data = pd.read_csv(path + \"/data/data_airlines.csv\")\n",
    "#     with open(path + '/data/data_airlines.pkl', 'rb') as f :\n",
    "    with open(path + '/data/data_more_features.pkl', 'rb') as f :\n",
    "        data = pickle.load(f)\n",
    "except FileNotFoundError :\n",
    "    print(\"Please check if the file 'data_airlines.csv' is in the 'data' folder at the current location\")"
   ]
  },
  {
   "cell_type": "markdown",
   "metadata": {},
   "source": [
    "# 3) Data preparation"
   ]
  },
  {
   "cell_type": "markdown",
   "metadata": {},
   "source": [
    "# 3.1) Overview"
   ]
  },
  {
   "cell_type": "code",
   "execution_count": 10,
   "metadata": {},
   "outputs": [
    {
     "name": "stdout",
     "output_type": "stream",
     "text": [
      "(4518157, 9)\n"
     ]
    },
    {
     "data": {
      "text/html": [
       "<div>\n",
       "<style scoped>\n",
       "    .dataframe tbody tr th:only-of-type {\n",
       "        vertical-align: middle;\n",
       "    }\n",
       "\n",
       "    .dataframe tbody tr th {\n",
       "        vertical-align: top;\n",
       "    }\n",
       "\n",
       "    .dataframe thead th {\n",
       "        text-align: right;\n",
       "    }\n",
       "</style>\n",
       "<table border=\"1\" class=\"dataframe\">\n",
       "  <thead>\n",
       "    <tr style=\"text-align: right;\">\n",
       "      <th></th>\n",
       "      <th>ARR_DELAY_NEW</th>\n",
       "      <th>DEST_AIRPORT_ID</th>\n",
       "      <th>DISTANCE</th>\n",
       "      <th>ORIGIN_AIRPORT_ID</th>\n",
       "      <th>TAIL_NUM</th>\n",
       "      <th>UNIQUE_CARRIER</th>\n",
       "      <th>DATE_TIME</th>\n",
       "      <th>TIME_SECONDS</th>\n",
       "      <th>ARR_TIME_SECS</th>\n",
       "    </tr>\n",
       "  </thead>\n",
       "  <tbody>\n",
       "    <tr>\n",
       "      <th>5480165</th>\n",
       "      <td>10.0</td>\n",
       "      <td>11298.0</td>\n",
       "      <td>1235.0</td>\n",
       "      <td>12892</td>\n",
       "      <td>N860AA</td>\n",
       "      <td>AA</td>\n",
       "      <td>2016-01-01 00:10:00</td>\n",
       "      <td>600</td>\n",
       "      <td>18096.0</td>\n",
       "    </tr>\n",
       "    <tr>\n",
       "      <th>5482988</th>\n",
       "      <td>0.0</td>\n",
       "      <td>11057.0</td>\n",
       "      <td>1773.0</td>\n",
       "      <td>14107</td>\n",
       "      <td>N157UW</td>\n",
       "      <td>AA</td>\n",
       "      <td>2016-01-01 00:15:00</td>\n",
       "      <td>900</td>\n",
       "      <td>21696.0</td>\n",
       "    </tr>\n",
       "    <tr>\n",
       "      <th>5476021</th>\n",
       "      <td>0.0</td>\n",
       "      <td>11057.0</td>\n",
       "      <td>2296.0</td>\n",
       "      <td>14771</td>\n",
       "      <td>N558UW</td>\n",
       "      <td>AA</td>\n",
       "      <td>2016-01-01 00:15:00</td>\n",
       "      <td>900</td>\n",
       "      <td>29280.0</td>\n",
       "    </tr>\n",
       "    <tr>\n",
       "      <th>5661633</th>\n",
       "      <td>0.0</td>\n",
       "      <td>13930.0</td>\n",
       "      <td>1846.0</td>\n",
       "      <td>14771</td>\n",
       "      <td>N472UA</td>\n",
       "      <td>UA</td>\n",
       "      <td>2016-01-01 00:24:00</td>\n",
       "      <td>1440</td>\n",
       "      <td>25344.0</td>\n",
       "    </tr>\n",
       "    <tr>\n",
       "      <th>5444953</th>\n",
       "      <td>0.0</td>\n",
       "      <td>13303.0</td>\n",
       "      <td>2342.0</td>\n",
       "      <td>12892</td>\n",
       "      <td>N864AA</td>\n",
       "      <td>AA</td>\n",
       "      <td>2016-01-01 00:30:00</td>\n",
       "      <td>1800</td>\n",
       "      <td>31008.0</td>\n",
       "    </tr>\n",
       "  </tbody>\n",
       "</table>\n",
       "</div>"
      ],
      "text/plain": [
       "         ARR_DELAY_NEW  DEST_AIRPORT_ID  DISTANCE  ORIGIN_AIRPORT_ID TAIL_NUM  \\\n",
       "5480165           10.0          11298.0    1235.0              12892   N860AA   \n",
       "5482988            0.0          11057.0    1773.0              14107   N157UW   \n",
       "5476021            0.0          11057.0    2296.0              14771   N558UW   \n",
       "5661633            0.0          13930.0    1846.0              14771   N472UA   \n",
       "5444953            0.0          13303.0    2342.0              12892   N864AA   \n",
       "\n",
       "        UNIQUE_CARRIER           DATE_TIME  TIME_SECONDS  ARR_TIME_SECS  \n",
       "5480165             AA 2016-01-01 00:10:00           600        18096.0  \n",
       "5482988             AA 2016-01-01 00:15:00           900        21696.0  \n",
       "5476021             AA 2016-01-01 00:15:00           900        29280.0  \n",
       "5661633             UA 2016-01-01 00:24:00          1440        25344.0  \n",
       "5444953             AA 2016-01-01 00:30:00          1800        31008.0  "
      ]
     },
     "execution_count": 10,
     "metadata": {},
     "output_type": "execute_result"
    }
   ],
   "source": [
    "print(data.shape)\n",
    "data.head()"
   ]
  },
  {
   "cell_type": "markdown",
   "metadata": {},
   "source": [
    "Some feature are categorical : need for encoding"
   ]
  },
  {
   "cell_type": "markdown",
   "metadata": {},
   "source": [
    "# 3.2) Encoding categorical features"
   ]
  },
  {
   "cell_type": "markdown",
   "metadata": {},
   "source": [
    "Label encoding airlines"
   ]
  },
  {
   "cell_type": "code",
   "execution_count": 11,
   "metadata": {},
   "outputs": [],
   "source": [
    "le = preprocessing.LabelEncoder()\n",
    "label_airlines = le.fit_transform(data.UNIQUE_CARRIER)"
   ]
  },
  {
   "cell_type": "markdown",
   "metadata": {},
   "source": [
    "One Hot encoding airlines from label encoding"
   ]
  },
  {
   "cell_type": "code",
   "execution_count": 12,
   "metadata": {},
   "outputs": [],
   "source": [
    "oh_airlines = pd.get_dummies(label_airlines)\n",
    "# Reindex\n",
    "oh_airlines.index = data.index"
   ]
  },
  {
   "cell_type": "markdown",
   "metadata": {},
   "source": [
    "Label encoding aircrafts"
   ]
  },
  {
   "cell_type": "code",
   "execution_count": 13,
   "metadata": {},
   "outputs": [],
   "source": [
    "le = preprocessing.LabelEncoder()\n",
    "label_aircrafts = pd.DataFrame(le.fit_transform(data.TAIL_NUM), columns=['TAIL_NUM'])\n",
    "# Reindex\n",
    "label_aircrafts.index = data.index\n",
    "# Concat\n",
    "data_reg = pd.concat((oh_airlines, label_aircrafts), axis=1)\n",
    "# Relieve Memory\n",
    "del label_airlines, oh_airlines, label_aircrafts"
   ]
  },
  {
   "cell_type": "markdown",
   "metadata": {},
   "source": [
    "One Hot encoding departure airports"
   ]
  },
  {
   "cell_type": "code",
   "execution_count": 14,
   "metadata": {},
   "outputs": [],
   "source": [
    "oh_dep_airport = pd.get_dummies(data.ORIGIN_AIRPORT_ID)\n",
    "# Concat\n",
    "data_reg = pd.concat((data_reg, oh_dep_airport), axis=1)\n",
    "# Relieve Memory\n",
    "del oh_dep_airport"
   ]
  },
  {
   "cell_type": "markdown",
   "metadata": {},
   "source": [
    "One Hot encoding arrival airports"
   ]
  },
  {
   "cell_type": "code",
   "execution_count": 15,
   "metadata": {},
   "outputs": [],
   "source": [
    "# oh_arr_airport = pd.get_dummies(data.DEST_AIRPORT_ID)\n",
    "# # Concat\n",
    "# data_reg = pd.concat((data_reg, oh_arr_airport), axis=1)\n",
    "# # Relieve Memory\n",
    "# del oh_arr_airport"
   ]
  },
  {
   "cell_type": "markdown",
   "metadata": {},
   "source": [
    "Standardise numerical features"
   ]
  },
  {
   "cell_type": "code",
   "execution_count": 16,
   "metadata": {},
   "outputs": [],
   "source": [
    "std_scale = preprocessing.StandardScaler().fit(data.loc[:, ['TIME_SECONDS', 'ARR_TIME_SECS', 'DISTANCE']].values)\n",
    "data_num = pd.DataFrame(std_scale.transform(data.loc[:, ['TIME_SECONDS', 'ARR_TIME_SECS', 'DISTANCE']].values), columns=['DEP_TIME_SECS_STD', 'ARR_TIME_SECS_STD', 'DISTANCE_STD'])\n",
    "# Reindex\n",
    "data_num.index = data.index\n",
    "# Concat\n",
    "data_reg = pd.concat((data_reg, data_num), axis=1)\n",
    "# Relieve Memory\n",
    "del data_num"
   ]
  },
  {
   "cell_type": "markdown",
   "metadata": {},
   "source": [
    "Concatenate everything into processed data"
   ]
  },
  {
   "cell_type": "code",
   "execution_count": 17,
   "metadata": {},
   "outputs": [
    {
     "data": {
      "text/html": [
       "<div>\n",
       "<style scoped>\n",
       "    .dataframe tbody tr th:only-of-type {\n",
       "        vertical-align: middle;\n",
       "    }\n",
       "\n",
       "    .dataframe tbody tr th {\n",
       "        vertical-align: top;\n",
       "    }\n",
       "\n",
       "    .dataframe thead th {\n",
       "        text-align: right;\n",
       "    }\n",
       "</style>\n",
       "<table border=\"1\" class=\"dataframe\">\n",
       "  <thead>\n",
       "    <tr style=\"text-align: right;\">\n",
       "      <th></th>\n",
       "      <th>0</th>\n",
       "      <th>1</th>\n",
       "      <th>2</th>\n",
       "      <th>3</th>\n",
       "      <th>4</th>\n",
       "      <th>5</th>\n",
       "      <th>6</th>\n",
       "      <th>7</th>\n",
       "      <th>8</th>\n",
       "      <th>9</th>\n",
       "      <th>...</th>\n",
       "      <th>15380</th>\n",
       "      <th>15389</th>\n",
       "      <th>15412</th>\n",
       "      <th>15624</th>\n",
       "      <th>15919</th>\n",
       "      <th>16218</th>\n",
       "      <th>DEP_TIME_SECS_STD</th>\n",
       "      <th>ARR_TIME_SECS_STD</th>\n",
       "      <th>DISTANCE_STD</th>\n",
       "      <th>ARR_DELAY_NEW</th>\n",
       "    </tr>\n",
       "  </thead>\n",
       "  <tbody>\n",
       "    <tr>\n",
       "      <th>5480165</th>\n",
       "      <td>1</td>\n",
       "      <td>0</td>\n",
       "      <td>0</td>\n",
       "      <td>0</td>\n",
       "      <td>0</td>\n",
       "      <td>0</td>\n",
       "      <td>0</td>\n",
       "      <td>0</td>\n",
       "      <td>0</td>\n",
       "      <td>0</td>\n",
       "      <td>...</td>\n",
       "      <td>0</td>\n",
       "      <td>0</td>\n",
       "      <td>0</td>\n",
       "      <td>0</td>\n",
       "      <td>0</td>\n",
       "      <td>0</td>\n",
       "      <td>-2.703141</td>\n",
       "      <td>-1.992056</td>\n",
       "      <td>0.538910</td>\n",
       "      <td>10.0</td>\n",
       "    </tr>\n",
       "    <tr>\n",
       "      <th>5482988</th>\n",
       "      <td>1</td>\n",
       "      <td>0</td>\n",
       "      <td>0</td>\n",
       "      <td>0</td>\n",
       "      <td>0</td>\n",
       "      <td>0</td>\n",
       "      <td>0</td>\n",
       "      <td>0</td>\n",
       "      <td>0</td>\n",
       "      <td>0</td>\n",
       "      <td>...</td>\n",
       "      <td>0</td>\n",
       "      <td>0</td>\n",
       "      <td>0</td>\n",
       "      <td>0</td>\n",
       "      <td>0</td>\n",
       "      <td>0</td>\n",
       "      <td>-2.686161</td>\n",
       "      <td>-1.799513</td>\n",
       "      <td>1.388456</td>\n",
       "      <td>0.0</td>\n",
       "    </tr>\n",
       "    <tr>\n",
       "      <th>5476021</th>\n",
       "      <td>1</td>\n",
       "      <td>0</td>\n",
       "      <td>0</td>\n",
       "      <td>0</td>\n",
       "      <td>0</td>\n",
       "      <td>0</td>\n",
       "      <td>0</td>\n",
       "      <td>0</td>\n",
       "      <td>0</td>\n",
       "      <td>0</td>\n",
       "      <td>...</td>\n",
       "      <td>0</td>\n",
       "      <td>0</td>\n",
       "      <td>0</td>\n",
       "      <td>0</td>\n",
       "      <td>0</td>\n",
       "      <td>0</td>\n",
       "      <td>-2.686161</td>\n",
       "      <td>-1.393889</td>\n",
       "      <td>2.214315</td>\n",
       "      <td>0.0</td>\n",
       "    </tr>\n",
       "    <tr>\n",
       "      <th>5661633</th>\n",
       "      <td>0</td>\n",
       "      <td>0</td>\n",
       "      <td>0</td>\n",
       "      <td>0</td>\n",
       "      <td>0</td>\n",
       "      <td>0</td>\n",
       "      <td>0</td>\n",
       "      <td>0</td>\n",
       "      <td>0</td>\n",
       "      <td>1</td>\n",
       "      <td>...</td>\n",
       "      <td>0</td>\n",
       "      <td>0</td>\n",
       "      <td>0</td>\n",
       "      <td>0</td>\n",
       "      <td>0</td>\n",
       "      <td>0</td>\n",
       "      <td>-2.655597</td>\n",
       "      <td>-1.604403</td>\n",
       "      <td>1.503729</td>\n",
       "      <td>0.0</td>\n",
       "    </tr>\n",
       "    <tr>\n",
       "      <th>5444953</th>\n",
       "      <td>1</td>\n",
       "      <td>0</td>\n",
       "      <td>0</td>\n",
       "      <td>0</td>\n",
       "      <td>0</td>\n",
       "      <td>0</td>\n",
       "      <td>0</td>\n",
       "      <td>0</td>\n",
       "      <td>0</td>\n",
       "      <td>0</td>\n",
       "      <td>...</td>\n",
       "      <td>0</td>\n",
       "      <td>0</td>\n",
       "      <td>0</td>\n",
       "      <td>0</td>\n",
       "      <td>0</td>\n",
       "      <td>0</td>\n",
       "      <td>-2.635220</td>\n",
       "      <td>-1.301469</td>\n",
       "      <td>2.286953</td>\n",
       "      <td>0.0</td>\n",
       "    </tr>\n",
       "  </tbody>\n",
       "</table>\n",
       "<p>5 rows × 218 columns</p>\n",
       "</div>"
      ],
      "text/plain": [
       "         0  1  2  3  4  5  6  7  8  9      ...        15380  15389  15412  \\\n",
       "5480165  1  0  0  0  0  0  0  0  0  0      ...            0      0      0   \n",
       "5482988  1  0  0  0  0  0  0  0  0  0      ...            0      0      0   \n",
       "5476021  1  0  0  0  0  0  0  0  0  0      ...            0      0      0   \n",
       "5661633  0  0  0  0  0  0  0  0  0  1      ...            0      0      0   \n",
       "5444953  1  0  0  0  0  0  0  0  0  0      ...            0      0      0   \n",
       "\n",
       "         15624  15919  16218  DEP_TIME_SECS_STD  ARR_TIME_SECS_STD  \\\n",
       "5480165      0      0      0          -2.703141          -1.992056   \n",
       "5482988      0      0      0          -2.686161          -1.799513   \n",
       "5476021      0      0      0          -2.686161          -1.393889   \n",
       "5661633      0      0      0          -2.655597          -1.604403   \n",
       "5444953      0      0      0          -2.635220          -1.301469   \n",
       "\n",
       "         DISTANCE_STD  ARR_DELAY_NEW  \n",
       "5480165      0.538910           10.0  \n",
       "5482988      1.388456            0.0  \n",
       "5476021      2.214315            0.0  \n",
       "5661633      1.503729            0.0  \n",
       "5444953      2.286953            0.0  \n",
       "\n",
       "[5 rows x 218 columns]"
      ]
     },
     "metadata": {},
     "output_type": "display_data"
    }
   ],
   "source": [
    "data_reg = pd.concat((data_reg, data.loc[:, ['ARR_DELAY_NEW']]), axis=1)\n",
    "# Relieve Memory\n",
    "del data\n",
    "display(data_reg.head())"
   ]
  },
  {
   "cell_type": "markdown",
   "metadata": {},
   "source": [
    "Set Target"
   ]
  },
  {
   "cell_type": "code",
   "execution_count": 18,
   "metadata": {},
   "outputs": [],
   "source": [
    "# Target : arrival delay\n",
    "y = data_reg.loc[:, 'ARR_DELAY_NEW']\n",
    "X = data_reg.loc[:, data_reg.columns  != 'ARR_DELAY_NEW']"
   ]
  },
  {
   "cell_type": "markdown",
   "metadata": {},
   "source": [
    "Split in train/test sets : Learn over 70% of the year to predict the future 30% of the year"
   ]
  },
  {
   "cell_type": "code",
   "execution_count": 19,
   "metadata": {},
   "outputs": [],
   "source": [
    "test_size = 0.3\n",
    "n_train = math.floor(X.shape[0] * (1 - test_size))\n",
    "\n",
    "X_train = X.iloc[:n_train, :]\n",
    "X_test = X.iloc[n_train:, :]\n",
    "\n",
    "y_train = y.iloc[:n_train]\n",
    "y_test = y.iloc[n_train:]"
   ]
  },
  {
   "cell_type": "markdown",
   "metadata": {},
   "source": [
    "Save Memory"
   ]
  },
  {
   "cell_type": "code",
   "execution_count": 20,
   "metadata": {},
   "outputs": [],
   "source": [
    "del data_reg#,X, y, "
   ]
  },
  {
   "cell_type": "markdown",
   "metadata": {},
   "source": [
    "# 4) First models"
   ]
  },
  {
   "cell_type": "markdown",
   "metadata": {},
   "source": [
    "# 4.1) Dummy model : Predicting the mean"
   ]
  },
  {
   "cell_type": "code",
   "execution_count": 56,
   "metadata": {},
   "outputs": [],
   "source": [
    "dum = dummy.DummyRegressor(strategy='mean')\n",
    "\n",
    "# Entraînement\n",
    "dum.fit(X_train, y_train)\n",
    "\n",
    "# Prédiction sur le jeu de test\n",
    "y_pred_dum = dum.predict(X_test)"
   ]
  },
  {
   "cell_type": "code",
   "execution_count": 57,
   "metadata": {},
   "outputs": [
    {
     "name": "stdout",
     "output_type": "stream",
     "text": [
      "Dummy mean prediction on training set : RMSE : 21.13, MAE : 12.87, R² : 0.00\n",
      "Dummy mean prediction on testing set : RMSE : 19.87, MAE : 12.28, R² : -0.00\n"
     ]
    }
   ],
   "source": [
    "# Get the errors\n",
    "display_metrics(\"Dummy mean prediction on training set\", dum, X_train, y_train)\n",
    "display_metrics(\"Dummy mean prediction on testing set\", dum, X_test, y_test)\n",
    "# Get the mse composition\n",
    "pred_df_dum, mse_stats_df_dum = pred_mse(y_test, y_pred_dum)"
   ]
  },
  {
   "cell_type": "code",
   "execution_count": 58,
   "metadata": {},
   "outputs": [],
   "source": [
    "# Getting mean MSE for 2-min delay windows\n",
    "delays = []\n",
    "mean_mse_delay_dum = []\n",
    "delay = 0\n",
    "for i in range(70) :\n",
    "    mean_mse_delay_dum.append(pred_df_dum.loc[:, 'mse'][pred_df_dum.loc[:, 'target'].between(delay, delay+2)].mean())\n",
    "    delays.append(delay)\n",
    "    delay += 2\n",
    "sorted_pred_df_dum = pred_df_dum.sort_values(by=['mse'], ascending=False)"
   ]
  },
  {
   "cell_type": "code",
   "execution_count": 59,
   "metadata": {},
   "outputs": [
    {
     "data": {
      "image/png": "[encoded data removed]",
      "text/plain": [
       "<Figure size 576x360 with 1 Axes>"
      ]
     },
     "metadata": {},
     "output_type": "display_data"
    }
   ],
   "source": [
    "fig, ax = plt.subplots(figsize=(8,5))\n",
    "ax.scatter(sorted_pred_df_dum.target, sorted_pred_df_dum.mse, label='MSE', s=3)\n",
    "ax.set_xlabel(\"Actual delay (min)\", fontsize=15)\n",
    "ax.set_ylabel(\"MSE\", fontsize=15)\n",
    "ax.set_xlim((0,140));\n",
    "ax.plot(delays, mean_mse_delay_dum, label='Mean MSE', color='orange', linewidth=5)\n",
    "ax.legend(fontsize=15);"
   ]
  },
  {
   "cell_type": "markdown",
   "metadata": {},
   "source": [
    "From this simple plot we can see that this dummy model : \n",
    "* Performs poorly as delay increases\n",
    "* Performs best for delays between 0 and 20 min, which may be an interesting feature as most delays are small delays"
   ]
  },
  {
   "cell_type": "code",
   "execution_count": 60,
   "metadata": {},
   "outputs": [
    {
     "data": {
      "image/png": "[encoded data removed]",
      "text/plain": [
       "<Figure size 576x360 with 1 Axes>"
      ]
     },
     "metadata": {},
     "output_type": "display_data"
    }
   ],
   "source": [
    "sizes = {} # clé : coordonnées ; valeur : nombre de points à ces coordonnées\n",
    "for (yt, yp) in zip(list(y_test), list(y_pred_dum)):\n",
    "    if (yt, yp) in sizes:\n",
    "        sizes[(yt, yp)] += 0.01\n",
    "    else:\n",
    "        sizes[(yt, yp)] = 0.01\n",
    "\n",
    "keys = sizes.keys()\n",
    "fig, ax = plt.subplots(figsize=(8,5))\n",
    "plt.scatter([k[0] for k in keys], # vraie valeur (abscisse)\n",
    "            [k[1] for k in keys], # valeur predite (ordonnee)\n",
    "            s=[sizes[k] for k in keys], # taille du marqueur\n",
    "            color='coral')\n",
    "\n",
    "ax.set_xlabel(\"Actual delay (min)\", fontsize=15)\n",
    "ax.set_ylabel(\"Predicted delay (min)\", fontsize=15)\n",
    "ax.set_xlim((0,140));"
   ]
  },
  {
   "cell_type": "markdown",
   "metadata": {},
   "source": [
    "Save Memory"
   ]
  },
  {
   "cell_type": "code",
   "execution_count": 40,
   "metadata": {},
   "outputs": [],
   "source": [
    "del y_pred_dum, pred_df_dum, sorted_pred_df_dum"
   ]
  },
  {
   "cell_type": "markdown",
   "metadata": {},
   "source": [
    "# 4.3) Baseline : Linear regression with selected features"
   ]
  },
  {
   "cell_type": "markdown",
   "metadata": {},
   "source": [
    "This will be our baseline model : a simple linear regression"
   ]
  },
  {
   "cell_type": "code",
   "execution_count": 41,
   "metadata": {
    "scrolled": true
   },
   "outputs": [],
   "source": [
    "lr = linear_model.LinearRegression()\n",
    "# Training the model with training set\n",
    "lr.fit(X_train, y_train);"
   ]
  },
  {
   "cell_type": "code",
   "execution_count": 42,
   "metadata": {},
   "outputs": [
    {
     "name": "stdout",
     "output_type": "stream",
     "text": [
      "Linear regression on training set : RMSE : 20.79, MAE : 12.45, R² : 0.03\n",
      "Linear regression on testing set : RMSE : 19.73, MAE : 12.05, R² : 0.01\n"
     ]
    }
   ],
   "source": [
    "display_metrics(\"Linear regression on training set\", lr, X_train, y_train)\n",
    "display_metrics(\"Linear regression on testing set\", lr, X_test, y_test);"
   ]
  },
  {
   "cell_type": "markdown",
   "metadata": {},
   "source": [
    "The score may be poor, the RMSE is close on both training and testing sets, thus the model might be lausy representation of the data but consistent anyhow"
   ]
  },
  {
   "cell_type": "markdown",
   "metadata": {},
   "source": [
    "Looking closely at our prediction error behaviour : mean squared error"
   ]
  },
  {
   "cell_type": "code",
   "execution_count": 43,
   "metadata": {},
   "outputs": [
    {
     "data": {
      "text/plain": [
       "count    1.355448e+06\n",
       "mean     3.892597e+02\n",
       "std      1.495334e+03\n",
       "min      7.854280e-11\n",
       "25%      2.727532e+01\n",
       "50%      7.244452e+01\n",
       "75%      1.491100e+02\n",
       "max      1.925446e+04\n",
       "Name: mse, dtype: float64"
      ]
     },
     "execution_count": 43,
     "metadata": {},
     "output_type": "execute_result"
    }
   ],
   "source": [
    "y_test_predict = lr.predict(X_test)\n",
    "pred_df, mse_stats_df = pred_mse(y_test, y_test_predict)\n",
    "mse_stats_df"
   ]
  },
  {
   "cell_type": "markdown",
   "metadata": {},
   "source": [
    "So the max mean squared error is quite high ! Some predictions are quite bad. The mean and the median however (respectively 6e-3 and 80 are not that high values which may be a good point)."
   ]
  },
  {
   "cell_type": "code",
   "execution_count": 44,
   "metadata": {},
   "outputs": [],
   "source": [
    "# Getting mean RMSE for 2-min delay windows\n",
    "delays = []\n",
    "mean_mse_delay = []\n",
    "delay = 0\n",
    "for i in range(70) :\n",
    "    mean_mse_delay.append(pred_df.loc[:, 'mse'][pred_df.loc[:, 'target'].between(delay, delay+2)].mean())\n",
    "    delays.append(delay)\n",
    "    delay += 2\n",
    "sorted_pred_df = pred_df.sort_values(by=['mse'], ascending=False)"
   ]
  },
  {
   "cell_type": "code",
   "execution_count": 53,
   "metadata": {},
   "outputs": [
    {
     "data": {
      "image/png": "[encoded data removed]",
      "text/plain": [
       "<Figure size 576x360 with 1 Axes>"
      ]
     },
     "metadata": {},
     "output_type": "display_data"
    }
   ],
   "source": [
    "fig, ax = plt.subplots(figsize=(8,5))\n",
    "ax.scatter(sorted_pred_df.target, sorted_pred_df.mse, label='MSE', s=3)\n",
    "ax.set_xlabel(\"Actual delay (min)\", fontsize=15)\n",
    "ax.set_ylabel(\"MSE\", fontsize=15)\n",
    "ax.set_xlim((0,140));\n",
    "ax.plot(delays, mean_mse_delay, label='Mean MSE', color='orange', linewidth=5)\n",
    "ax.legend(fontsize=15);"
   ]
  },
  {
   "cell_type": "markdown",
   "metadata": {},
   "source": [
    "Chocking : We find the same behaviour as our dummy mean-predicting model. This Linear Regression model seems to be empty."
   ]
  },
  {
   "cell_type": "code",
   "execution_count": 55,
   "metadata": {},
   "outputs": [
    {
     "data": {
      "image/png": "[encoded data removed]",
      "text/plain": [
       "<Figure size 576x360 with 1 Axes>"
      ]
     },
     "metadata": {},
     "output_type": "display_data"
    }
   ],
   "source": [
    "fig, ax = plt.subplots(figsize=(8,5))\n",
    "ax.plot(delays, mean_mse_delay, label='Mean MSE linear regression', color='blue', linewidth=5)\n",
    "ax.plot(delays, mean_mse_delay_dum, label='Mean MSE dummy mean', color='orange', linewidth=5)\n",
    "ax.legend(fontsize=15)\n",
    "ax.set_xlabel(\"Actual delay (min)\", fontsize=15)\n",
    "ax.set_ylabel(\"Mean MSE\", fontsize=15)\n",
    "ax.set_xlim((0,140));\n",
    "ax.legend(fontsize=15);"
   ]
  },
  {
   "cell_type": "markdown",
   "metadata": {},
   "source": [
    "# 5) Ridge Regression"
   ]
  },
  {
   "cell_type": "markdown",
   "metadata": {},
   "source": [
    "Let's look at a Ridge Regression and see how it manages to reduce the influence of some features"
   ]
  },
  {
   "cell_type": "code",
   "execution_count": 61,
   "metadata": {},
   "outputs": [
    {
     "name": "stdout",
     "output_type": "stream",
     "text": [
      "[====================================================================================================] 100%"
     ]
    }
   ],
   "source": [
    "n_alphas = 10\n",
    "alphas = np.logspace(1, 10, n_alphas)\n",
    "ridge = linear_model.Ridge()\n",
    "\n",
    "coefs = []\n",
    "errors = []\n",
    "count=0\n",
    "for a in alphas:\n",
    "    ridge.set_params(alpha=a)\n",
    "    ridge.fit(X_train, y_train)\n",
    "    coefs.append(ridge.coef_)\n",
    "    mse = metrics.mean_squared_error(y_test, ridge.predict(X_test))\n",
    "    rmse = math.sqrt(mse)\n",
    "    mae = metrics.mean_absolute_error(y_test, ridge.predict(X_test))\n",
    "    r2 = metrics.r2_score(y_test, ridge.predict(X_test))\n",
    "    errors.append([mae, rmse, r2])\n",
    "    display_progress_bar(len(alphas),count)\n",
    "    count+=1"
   ]
  },
  {
   "cell_type": "code",
   "execution_count": 62,
   "metadata": {},
   "outputs": [
    {
     "data": {
      "image/png": "[encoded data removed]",
      "text/plain": [
       "<Figure size 720x360 with 2 Axes>"
      ]
     },
     "metadata": {},
     "output_type": "display_data"
    }
   ],
   "source": [
    "f, (ax1, ax2) = plt.subplots(1, 2, sharey=False, figsize=(10,5))\n",
    "\n",
    "ax1.plot(alphas, coefs)\n",
    "ax1.set_xscale('log')\n",
    "ax1.set_xlabel('alpha', fontsize=15)\n",
    "ax1.set_ylabel('weights', fontsize=15)\n",
    "ax1.set_title('Ridge coefficients as a function of the regularization', fontsize=15)\n",
    "ax1.axis('tight')\n",
    "\n",
    "ax2.plot(alphas, errors)\n",
    "ax2.set_xscale('log')\n",
    "ax2.set_xlabel('alpha', fontsize=15)\n",
    "ax2.set_ylabel('error', fontsize=15)\n",
    "plt.axis('tight');"
   ]
  },
  {
   "cell_type": "markdown",
   "metadata": {},
   "source": [
    "The Ridge regularisation has reduced the weight of nearly every feature except for the departure time of day in seconds (which is still reduced to 0.001). The outcome is not better than our linear regression baseline, and regularisation even tends to worsen the results"
   ]
  },
  {
   "cell_type": "code",
   "execution_count": 86,
   "metadata": {},
   "outputs": [
    {
     "data": {
      "text/plain": [
       "Index([0, 'DEP_TIME_SECS_STD', 'ARR_TIME_SECS_STD', 'DISTANCE_STD'], dtype='object')"
      ]
     },
     "execution_count": 86,
     "metadata": {},
     "output_type": "execute_result"
    }
   ],
   "source": [
    "X_train.iloc[:,[0,214,215,216]].columns"
   ]
  },
  {
   "cell_type": "code",
   "execution_count": 91,
   "metadata": {},
   "outputs": [
    {
     "data": {
      "text/plain": [
       "Index(['DEP_TIME_SECS_STD', 'ARR_TIME_SECS_STD', 0, 'DISTANCE_STD', 2], dtype='object')"
      ]
     },
     "execution_count": 91,
     "metadata": {},
     "output_type": "execute_result"
    }
   ],
   "source": [
    "final_coefs = coefs[-1]\n",
    "final_coefs[(-final_coefs).argsort()][:5]\n",
    "X_train.iloc[:,(-final_coefs).argsort()[:5]].columns"
   ]
  },
  {
   "cell_type": "code",
   "execution_count": 93,
   "metadata": {},
   "outputs": [
    {
     "data": {
      "text/plain": [
       "[[12.046983227204498, 19.729632178618054, 0.012743733795572476],\n",
       " [12.046919170243596, 19.72938346915575, 0.012768624115400029],\n",
       " [12.047272026224814, 19.72841517513859, 0.012865525955071733],\n",
       " [12.04856829922698, 19.72552358952672, 0.01315487252790759],\n",
       " [12.053449119337737, 19.71929632463499, 0.0137778598932915],\n",
       " [12.087214383300836, 19.72366365126565, 0.013340964873478023],\n",
       " [12.185059229749118, 19.771217428830518, 0.0085775571778135],\n",
       " [12.260706664201301, 19.851363024989087, 0.0005235068126338005],\n",
       " [12.273256275654514, 19.86706805456484, -0.0010585525131689977],\n",
       " [12.274643395868017, 19.86877577981081, -0.001230657066472185]]"
      ]
     },
     "execution_count": 93,
     "metadata": {},
     "output_type": "execute_result"
    }
   ],
   "source": [
    "errors"
   ]
  },
  {
   "cell_type": "markdown",
   "metadata": {},
   "source": [
    "# 6) Lasso Regression"
   ]
  },
  {
   "cell_type": "markdown",
   "metadata": {},
   "source": [
    "Let's look at a Lasso Regression and see how it manages to set the influence of features to 0"
   ]
  },
  {
   "cell_type": "code",
   "execution_count": 65,
   "metadata": {},
   "outputs": [
    {
     "name": "stdout",
     "output_type": "stream",
     "text": [
      "[====================================================================================================] 100%"
     ]
    }
   ],
   "source": [
    "n_alphas = 4\n",
    "alphas = np.logspace(-1, 2, n_alphas)\n",
    "lasso = linear_model.Lasso()\n",
    "\n",
    "coefs_l = []\n",
    "errors_l = []\n",
    "count=0\n",
    "for a in alphas:\n",
    "    lasso.set_params(alpha=a)\n",
    "    lasso.fit(X_train, y_train)\n",
    "    coefs_l.append(lasso.coef_)\n",
    "    mse = metrics.mean_squared_error(y_test, lasso.predict(X_test))\n",
    "    rmse = math.sqrt(mse)\n",
    "    mae = metrics.mean_absolute_error(y_test, lasso.predict(X_test))\n",
    "    r2 = metrics.r2_score(y_test, lasso.predict(X_test))\n",
    "    errors_l.append([mae, rmse, r2])\n",
    "    display_progress_bar(len(alphas),count)\n",
    "    count+=1"
   ]
  },
  {
   "cell_type": "code",
   "execution_count": 66,
   "metadata": {},
   "outputs": [
    {
     "data": {
      "image/png": "[encoded data removed]",
      "text/plain": [
       "<Figure size 720x360 with 2 Axes>"
      ]
     },
     "metadata": {},
     "output_type": "display_data"
    }
   ],
   "source": [
    "f, (ax1, ax2) = plt.subplots(1, 2, sharey=False, figsize=(10,5))\n",
    "\n",
    "ax1.plot(alphas, coefs_l)\n",
    "ax1.set_xscale('log')\n",
    "ax1.set_xlabel('alpha', fontsize=15)\n",
    "ax1.set_ylabel('weights', fontsize=15)\n",
    "ax1.set_title('Lasso coefficients as a function of the regularization')\n",
    "ax1.axis('tight')\n",
    "\n",
    "ax2.plot(alphas, errors_l)\n",
    "ax2.set_xscale('log')\n",
    "ax2.set_xlabel('alpha', fontsize=15)\n",
    "ax2.set_ylabel('error', fontsize=15)\n",
    "plt.axis('tight');"
   ]
  },
  {
   "cell_type": "markdown",
   "metadata": {},
   "source": [
    "Similar to Ridge : Lasso is not using our features, it is therefore not relevant to use here. But it is striking to see that None of our feature is needed for the model, which feels wrong"
   ]
  },
  {
   "cell_type": "code",
   "execution_count": 67,
   "metadata": {},
   "outputs": [
    {
     "data": {
      "text/plain": [
       "[[12.073253405708334, 19.739279902600973, 0.011777967717193749],\n",
       " [12.115436289653879, 19.734037124717766, 0.012302844064883689],\n",
       " [12.274891982322856, 19.869035689518462, -0.0012568520643245762],\n",
       " [12.276023039960382, 19.869783371373966, -0.0013322090849863244]]"
      ]
     },
     "execution_count": 67,
     "metadata": {},
     "output_type": "execute_result"
    }
   ],
   "source": [
    "errors_l"
   ]
  },
  {
   "cell_type": "markdown",
   "metadata": {},
   "source": [
    "# 7) Time cross validation with Ridge Regression"
   ]
  },
  {
   "cell_type": "markdown",
   "metadata": {},
   "source": [
    "Ridge does not do a better job that a simple Linear Regression but we will try to improve its performances with a cross validation over our time series"
   ]
  },
  {
   "cell_type": "markdown",
   "metadata": {},
   "source": [
    "Perform grid search for alpha coefficient over splits of crossed validation"
   ]
  },
  {
   "cell_type": "markdown",
   "metadata": {},
   "source": [
    "Looking for the influence of cross-validation settings over the model performance"
   ]
  },
  {
   "cell_type": "code",
   "execution_count": 19,
   "metadata": {},
   "outputs": [],
   "source": [
    "# Getting back the objects:\n",
    "with open(path + '/data/objs_cv_ridge.pkl', 'rb') as f :\n",
    "    splits, rmse_split, mae_split = pickle.load(f)"
   ]
  },
  {
   "cell_type": "code",
   "execution_count": 21,
   "metadata": {},
   "outputs": [
    {
     "name": "stdout",
     "output_type": "stream",
     "text": [
      "Cross validation with 2 time splits\n",
      "\n",
      "Model regression for split number 1 : RMSE : 22.52, MAE : 12.82, R² : 0.02\n",
      "\n",
      "Model regression for split number 2 : RMSE : 19.51, MAE : 12.02, R² : 0.01\n",
      "Mean RMSE 21.02\n",
      "Cross validation with 3 time splits\n",
      "\n",
      "Model regression for split number 1 : RMSE : 20.31, MAE : 11.77, R² : 0.02\n",
      "\n",
      "Model regression for split number 2 : RMSE : 22.11, MAE : 12.77, R² : 0.03\n",
      "\n",
      "Model regression for split number 3 : RMSE : 19.83, MAE : 12.07, R² : 0.01\n",
      "Mean RMSE 20.75\n",
      "Cross validation with 4 time splits\n",
      "\n",
      "Model regression for split number 1 : RMSE : 19.41, MAE : 11.20, R² : 0.02\n",
      "\n",
      "Model regression for split number 2 : RMSE : 23.34, MAE : 13.19, R² : 0.02\n",
      "\n",
      "Model regression for split number 3 : RMSE : 19.78, MAE : 11.97, R² : 0.02\n",
      "\n",
      "Model regression for split number 4 : RMSE : 20.44, MAE : 12.28, R² : 0.01\n",
      "Mean RMSE 20.74\n",
      "Cross validation with 5 time splits\n",
      "\n",
      "Model regression for split number 1 : RMSE : 19.82, MAE : 11.27, R² : 0.02\n",
      "\n",
      "Model regression for split number 2 : RMSE : 21.05, MAE : 12.08, R² : 0.02\n",
      "\n",
      "Model regression for split number 3 : RMSE : 23.77, MAE : 13.64, R² : 0.02\n",
      "\n",
      "Model regression for split number 4 : RMSE : 18.25, MAE : 11.42, R² : 0.00\n",
      "\n",
      "Model regression for split number 5 : RMSE : 20.66, MAE : 12.39, R² : 0.01\n",
      "Mean RMSE 20.71\n",
      "Cross validation with 6 time splits\n",
      "\n",
      "Model regression for split number 1 : RMSE : 19.60, MAE : 11.29, R² : 0.02\n",
      "\n",
      "Model regression for split number 2 : RMSE : 19.57, MAE : 11.35, R² : 0.02\n",
      "\n",
      "Model regression for split number 3 : RMSE : 23.74, MAE : 13.46, R² : 0.02\n",
      "\n",
      "Model regression for split number 4 : RMSE : 21.15, MAE : 12.54, R² : 0.03\n",
      "\n",
      "Model regression for split number 5 : RMSE : 18.46, MAE : 11.40, R² : 0.01\n",
      "\n",
      "Model regression for split number 6 : RMSE : 21.20, MAE : 12.63, R² : 0.01\n",
      "Mean RMSE 20.62\n",
      "Cross validation with 7 time splits\n",
      "\n",
      "Model regression for split number 1 : RMSE : 19.96, MAE : 11.58, R² : 0.02\n",
      "\n",
      "Model regression for split number 2 : RMSE : 18.37, MAE : 10.87, R² : 0.02\n",
      "\n",
      "Model regression for split number 3 : RMSE : 22.03, MAE : 12.49, R² : 0.02\n",
      "\n",
      "Model regression for split number 4 : RMSE : 24.37, MAE : 13.96, R² : 0.02\n",
      "\n",
      "Model regression for split number 5 : RMSE : 19.62, MAE : 11.97, R² : 0.02\n",
      "\n",
      "Model regression for split number 6 : RMSE : 17.76, MAE : 11.12, R² : -0.00\n",
      "\n",
      "Model regression for split number 7 : RMSE : 21.71, MAE : 12.86, R² : 0.01\n",
      "Mean RMSE 20.55\n",
      "Cross validation with 8 time splits\n",
      "\n",
      "Model regression for split number 1 : RMSE : 19.90, MAE : 11.31, R² : 0.02\n",
      "\n",
      "Model regression for split number 2 : RMSE : 19.57, MAE : 11.26, R² : 0.02\n",
      "\n",
      "Model regression for split number 3 : RMSE : 20.42, MAE : 11.75, R² : 0.02\n",
      "\n",
      "Model regression for split number 4 : RMSE : 23.16, MAE : 13.23, R² : 0.02\n",
      "\n",
      "Model regression for split number 5 : RMSE : 23.57, MAE : 13.69, R² : 0.03\n",
      "\n",
      "Model regression for split number 6 : RMSE : 17.98, MAE : 11.31, R² : -0.00\n",
      "\n",
      "Model regression for split number 7 : RMSE : 18.09, MAE : 11.19, R² : -0.00\n",
      "\n",
      "Model regression for split number 8 : RMSE : 22.13, MAE : 13.07, R² : 0.01\n",
      "Mean RMSE 20.60\n",
      "Cross validation with 9 time splits\n",
      "\n",
      "Model regression for split number 1 : RMSE : 19.71, MAE : 11.27, R² : 0.02\n",
      "\n",
      "Model regression for split number 2 : RMSE : 19.27, MAE : 11.11, R² : 0.02\n",
      "\n",
      "Model regression for split number 3 : RMSE : 19.48, MAE : 11.29, R² : 0.02\n",
      "\n",
      "Model regression for split number 4 : RMSE : 22.27, MAE : 12.63, R² : 0.02\n",
      "\n",
      "Model regression for split number 5 : RMSE : 24.21, MAE : 13.88, R² : 0.02\n",
      "\n",
      "Model regression for split number 6 : RMSE : 21.24, MAE : 12.63, R² : 0.03\n",
      "\n",
      "Model regression for split number 7 : RMSE : 18.20, MAE : 11.32, R² : 0.01\n",
      "\n",
      "Model regression for split number 8 : RMSE : 18.03, MAE : 11.15, R² : -0.00\n",
      "\n",
      "Model regression for split number 9 : RMSE : 22.60, MAE : 13.31, R² : 0.01\n",
      "Mean RMSE 20.56\n",
      "Cross validation with 10 time splits\n",
      "\n",
      "Model regression for split number 1 : RMSE : 19.42, MAE : 11.17, R² : 0.02\n",
      "\n",
      "Model regression for split number 2 : RMSE : 20.26, MAE : 11.53, R² : 0.02\n",
      "\n",
      "Model regression for split number 3 : RMSE : 18.44, MAE : 10.88, R² : 0.02\n",
      "\n",
      "Model regression for split number 4 : RMSE : 21.15, MAE : 12.02, R² : 0.02\n",
      "\n",
      "Model regression for split number 5 : RMSE : 23.08, MAE : 13.21, R² : 0.02\n",
      "\n",
      "Model regression for split number 6 : RMSE : 25.23, MAE : 14.52, R² : 0.02\n",
      "\n",
      "Model regression for split number 7 : RMSE : 18.28, MAE : 11.49, R² : 0.00\n",
      "\n",
      "Model regression for split number 8 : RMSE : 18.25, MAE : 11.30, R² : 0.01\n",
      "\n",
      "Model regression for split number 9 : RMSE : 17.78, MAE : 11.05, R² : -0.01\n",
      "\n",
      "Model regression for split number 10 : RMSE : 23.09, MAE : 13.56, R² : 0.01\n",
      "Mean RMSE 20.50\n"
     ]
    }
   ],
   "source": [
    "splits = [2, 3, 4, 5, 6, 7, 8, 9, 10]\n",
    "mae_split = []\n",
    "rmse_split = []\n",
    "r2_split = []\n",
    "\n",
    "# Model\n",
    "model = linear_model.LinearRegression()\n",
    "model = linear_model.Ridge()\n",
    "\n",
    "for split in splits :\n",
    "    print(\"Cross validation with %i time splits\" % split)\n",
    "    errors_splits, alphas_splits = time_cross_validation(model, X, y, 5, split, gs=False)\n",
    "    \n",
    "    errors_array = np.array(errors_splits)\n",
    "    \n",
    "    mae_split.append(errors_array[:,0].mean())\n",
    "    rmse_split.append(errors_array[:,1].mean())\n",
    "    r2_split.append(errors_array[:,2].mean())\n",
    "    \n",
    "    print(\"Mean RMSE %.2f\" % errors_array[:,1].mean())"
   ]
  },
  {
   "cell_type": "code",
   "execution_count": 22,
   "metadata": {},
   "outputs": [
    {
     "data": {
      "image/png": "[encoded data removed]",
      "text/plain": [
       "<Figure size 720x360 with 2 Axes>"
      ]
     },
     "metadata": {},
     "output_type": "display_data"
    }
   ],
   "source": [
    "fig, ax1 = plt.subplots(figsize=(10,5))\n",
    "ax1.plot(splits, rmse_split, 'bo-')\n",
    "\n",
    "ax2 = ax1.twinx()\n",
    "ax2.plot(splits, mae_split, 'rx-')\n",
    "ax1.set_xlabel(\"Number of time splits\")\n",
    "ax1.set_ylabel(\"Mean RMSE over time splits\", color='b', fontsize=15)\n",
    "ax2.set_ylabel(\"Mean MAE over time splits\", color='r', fontsize=15);"
   ]
  },
  {
   "cell_type": "markdown",
   "metadata": {},
   "source": [
    "The computing has been long but the outcome shows how cross-validation improves the model performance. However looking at the scale of the RMSE reduction, one can ask if such a small gain is really worth the trouble as it might be more relevant to wonder about the behaviour of the model itself."
   ]
  },
  {
   "cell_type": "code",
   "execution_count": null,
   "metadata": {},
   "outputs": [],
   "source": [
    "# Saving the objects:\n",
    "with open(path + '/data/objs_cv_lr.pkl', 'wb') as f :  \n",
    "    pickle.dump([splits, rmse_split, mae_split], f)"
   ]
  },
  {
   "cell_type": "markdown",
   "metadata": {},
   "source": [
    "# 8) Other Ridge models"
   ]
  },
  {
   "cell_type": "markdown",
   "metadata": {},
   "source": [
    "In the exploratory phase we aknowledged the influence of the departure airport and the airline carrying the flight. We will now try to observe if selecting one airport or one airline or both improves the Ridge regression performances."
   ]
  },
  {
   "cell_type": "markdown",
   "metadata": {},
   "source": [
    "# 8.1) Same data but ONE airport, ALL airlines"
   ]
  },
  {
   "cell_type": "markdown",
   "metadata": {},
   "source": [
    "1) Loading dataframe (pickle)"
   ]
  },
  {
   "cell_type": "code",
   "execution_count": 118,
   "metadata": {},
   "outputs": [
    {
     "name": "stdout",
     "output_type": "stream",
     "text": [
      "366245 entries for this airport\n"
     ]
    },
    {
     "data": {
      "text/html": [
       "<div>\n",
       "<style scoped>\n",
       "    .dataframe tbody tr th:only-of-type {\n",
       "        vertical-align: middle;\n",
       "    }\n",
       "\n",
       "    .dataframe tbody tr th {\n",
       "        vertical-align: top;\n",
       "    }\n",
       "\n",
       "    .dataframe thead th {\n",
       "        text-align: right;\n",
       "    }\n",
       "</style>\n",
       "<table border=\"1\" class=\"dataframe\">\n",
       "  <thead>\n",
       "    <tr style=\"text-align: right;\">\n",
       "      <th></th>\n",
       "      <th>TAIL_NUM</th>\n",
       "      <th>UNIQUE_CARRIER</th>\n",
       "      <th>ORIGIN_CITY_NAME</th>\n",
       "      <th>ARR_DELAY_NEW</th>\n",
       "      <th>DISTANCE</th>\n",
       "      <th>DATE_TIME</th>\n",
       "      <th>TIME_SECONDS</th>\n",
       "      <th>ARR_TIME_SECS</th>\n",
       "    </tr>\n",
       "  </thead>\n",
       "  <tbody>\n",
       "    <tr>\n",
       "      <th>126697</th>\n",
       "      <td>N506NK</td>\n",
       "      <td>NK</td>\n",
       "      <td>Atlanta, GA</td>\n",
       "      <td>8.0</td>\n",
       "      <td>404.0</td>\n",
       "      <td>2016-01-01 06:00:00</td>\n",
       "      <td>21600</td>\n",
       "      <td>27120.0</td>\n",
       "    </tr>\n",
       "    <tr>\n",
       "      <th>332324</th>\n",
       "      <td>N947FR</td>\n",
       "      <td>F9</td>\n",
       "      <td>Atlanta, GA</td>\n",
       "      <td>0.0</td>\n",
       "      <td>666.0</td>\n",
       "      <td>2016-01-01 06:05:00</td>\n",
       "      <td>21900</td>\n",
       "      <td>29760.0</td>\n",
       "    </tr>\n",
       "  </tbody>\n",
       "</table>\n",
       "</div>"
      ],
      "text/plain": [
       "       TAIL_NUM UNIQUE_CARRIER ORIGIN_CITY_NAME  ARR_DELAY_NEW  DISTANCE  \\\n",
       "126697   N506NK             NK      Atlanta, GA            8.0     404.0   \n",
       "332324   N947FR             F9      Atlanta, GA            0.0     666.0   \n",
       "\n",
       "                 DATE_TIME  TIME_SECONDS  ARR_TIME_SECS  \n",
       "126697 2016-01-01 06:00:00         21600        27120.0  \n",
       "332324 2016-01-01 06:05:00         21900        29760.0  "
      ]
     },
     "execution_count": 118,
     "metadata": {},
     "output_type": "execute_result"
    }
   ],
   "source": [
    "with open(path + '/data/data_2016_1_aiport.pkl', 'rb') as f :\n",
    "    data_1_airport = pickle.load(f)\n",
    "print(\"%i entries for this airport\" % data_1_airport.shape[0])\n",
    "data_1_airport.head(2)"
   ]
  },
  {
   "cell_type": "markdown",
   "metadata": {},
   "source": [
    "2) Encoding airlines"
   ]
  },
  {
   "cell_type": "code",
   "execution_count": 119,
   "metadata": {},
   "outputs": [],
   "source": [
    "le = preprocessing.LabelEncoder()\n",
    "label_airlines = le.fit_transform(data_1_airport.UNIQUE_CARRIER)"
   ]
  },
  {
   "cell_type": "markdown",
   "metadata": {},
   "source": [
    "3) One Hot encoding airlines from label encoding"
   ]
  },
  {
   "cell_type": "code",
   "execution_count": 105,
   "metadata": {},
   "outputs": [],
   "source": [
    "oh_airlines = pd.get_dummies(label_airlines)"
   ]
  },
  {
   "cell_type": "markdown",
   "metadata": {},
   "source": [
    "4) Standardise numerical features"
   ]
  },
  {
   "cell_type": "code",
   "execution_count": 106,
   "metadata": {},
   "outputs": [],
   "source": [
    "std_scale = preprocessing.StandardScaler().fit(data_1_airport.loc[:, ['TIME_SECONDS', 'ARR_TIME_SECS', 'DISTANCE']].values)\n",
    "data_num_1_airport = pd.DataFrame(std_scale.transform(data_1_airport.loc[:, ['TIME_SECONDS', 'ARR_TIME_SECS', 'DISTANCE']].values), columns=['DEP_TIME_SECS_STD', 'ARR_TIME_SECS_STD', 'DISTANCE_STD'])\n",
    "# Reindex\n",
    "data_num_1_airport.index = oh_airlines.index\n",
    "# Concat\n",
    "data_1_airport_reg = pd.concat((oh_airlines, data_num_1_airport), axis=1)"
   ]
  },
  {
   "cell_type": "markdown",
   "metadata": {},
   "source": [
    "5) Reindex dataframe"
   ]
  },
  {
   "cell_type": "code",
   "execution_count": 107,
   "metadata": {},
   "outputs": [],
   "source": [
    "data_1_airport.index = oh_airlines.index"
   ]
  },
  {
   "cell_type": "markdown",
   "metadata": {},
   "source": [
    "6) Concatenate everything into processed data"
   ]
  },
  {
   "cell_type": "code",
   "execution_count": 108,
   "metadata": {},
   "outputs": [
    {
     "data": {
      "text/html": [
       "<div>\n",
       "<style scoped>\n",
       "    .dataframe tbody tr th:only-of-type {\n",
       "        vertical-align: middle;\n",
       "    }\n",
       "\n",
       "    .dataframe tbody tr th {\n",
       "        vertical-align: top;\n",
       "    }\n",
       "\n",
       "    .dataframe thead th {\n",
       "        text-align: right;\n",
       "    }\n",
       "</style>\n",
       "<table border=\"1\" class=\"dataframe\">\n",
       "  <thead>\n",
       "    <tr style=\"text-align: right;\">\n",
       "      <th></th>\n",
       "      <th>0</th>\n",
       "      <th>1</th>\n",
       "      <th>2</th>\n",
       "      <th>3</th>\n",
       "      <th>4</th>\n",
       "      <th>5</th>\n",
       "      <th>6</th>\n",
       "      <th>7</th>\n",
       "      <th>8</th>\n",
       "      <th>DEP_TIME_SECS_STD</th>\n",
       "      <th>ARR_TIME_SECS_STD</th>\n",
       "      <th>DISTANCE_STD</th>\n",
       "      <th>ARR_DELAY_NEW</th>\n",
       "    </tr>\n",
       "  </thead>\n",
       "  <tbody>\n",
       "    <tr>\n",
       "      <th>0</th>\n",
       "      <td>0</td>\n",
       "      <td>0</td>\n",
       "      <td>0</td>\n",
       "      <td>0</td>\n",
       "      <td>0</td>\n",
       "      <td>1</td>\n",
       "      <td>0</td>\n",
       "      <td>0</td>\n",
       "      <td>0</td>\n",
       "      <td>-1.887855</td>\n",
       "      <td>-1.635402</td>\n",
       "      <td>-0.524538</td>\n",
       "      <td>8.0</td>\n",
       "    </tr>\n",
       "    <tr>\n",
       "      <th>1</th>\n",
       "      <td>0</td>\n",
       "      <td>0</td>\n",
       "      <td>0</td>\n",
       "      <td>0</td>\n",
       "      <td>1</td>\n",
       "      <td>0</td>\n",
       "      <td>0</td>\n",
       "      <td>0</td>\n",
       "      <td>0</td>\n",
       "      <td>-1.870178</td>\n",
       "      <td>-1.493882</td>\n",
       "      <td>0.034261</td>\n",
       "      <td>0.0</td>\n",
       "    </tr>\n",
       "  </tbody>\n",
       "</table>\n",
       "</div>"
      ],
      "text/plain": [
       "   0  1  2  3  4  5  6  7  8  DEP_TIME_SECS_STD  ARR_TIME_SECS_STD  \\\n",
       "0  0  0  0  0  0  1  0  0  0          -1.887855          -1.635402   \n",
       "1  0  0  0  0  1  0  0  0  0          -1.870178          -1.493882   \n",
       "\n",
       "   DISTANCE_STD  ARR_DELAY_NEW  \n",
       "0     -0.524538            8.0  \n",
       "1      0.034261            0.0  "
      ]
     },
     "metadata": {},
     "output_type": "display_data"
    }
   ],
   "source": [
    "data_1_airport_reg = pd.concat((data_1_airport_reg, data_1_airport.loc[:, 'ARR_DELAY_NEW']), axis=1)\n",
    "display(data_1_airport_reg.head(2))"
   ]
  },
  {
   "cell_type": "code",
   "execution_count": 109,
   "metadata": {},
   "outputs": [],
   "source": [
    "# Target : arrival delay\n",
    "y = data_1_airport_reg.loc[:, 'ARR_DELAY_NEW']\n",
    "X = data_1_airport_reg.loc[:, data_1_airport_reg.columns  != 'ARR_DELAY_NEW']"
   ]
  },
  {
   "cell_type": "markdown",
   "metadata": {},
   "source": [
    "7) Cross validation"
   ]
  },
  {
   "cell_type": "code",
   "execution_count": 110,
   "metadata": {},
   "outputs": [
    {
     "name": "stdout",
     "output_type": "stream",
     "text": [
      "Cross validation with 2 time splits\n",
      "[====================================================================================================] 100%\n",
      "Model regression for split number 1 : RMSE : 22.76, MAE : 12.19, R² : -0.02\n",
      "[====================================================================================================] 100%\n",
      "Model regression for split number 2 : RMSE : 16.11, MAE : 10.09, R² : -0.02\n",
      "Mean RMSE 19.44\n",
      "Cross validation with 3 time splits\n",
      "[====================================================================================================] 100%\n",
      "Model regression for split number 1 : RMSE : 18.81, MAE : 10.39, R² : -0.00\n",
      "[====================================================================================================] 100%\n",
      "Model regression for split number 2 : RMSE : 22.32, MAE : 12.27, R² : -0.01\n",
      "[====================================================================================================] 100%\n",
      "Model regression for split number 3 : RMSE : 16.19, MAE : 9.91, R² : -0.02\n",
      "Mean RMSE 19.11\n",
      "Cross validation with 4 time splits\n",
      "[====================================================================================================] 100%\n",
      "Model regression for split number 1 : RMSE : 16.67, MAE : 9.37, R² : -0.00\n",
      "[====================================================================================================] 100%\n",
      "Model regression for split number 2 : RMSE : 25.28, MAE : 13.56, R² : -0.04\n",
      "[====================================================================================================] 100%\n",
      "Model regression for split number 3 : RMSE : 17.03, MAE : 10.50, R² : -0.02\n",
      "[====================================================================================================] 100%\n",
      "Model regression for split number 4 : RMSE : 16.81, MAE : 9.99, R² : -0.01\n",
      "Mean RMSE 18.95\n",
      "Cross validation with 5 time splits\n",
      "[====================================================================================================] 100%\n",
      "Model regression for split number 1 : RMSE : 16.66, MAE : 9.57, R² : -0.00\n",
      "[====================================================================================================] 100%\n",
      "Model regression for split number 2 : RMSE : 20.13, MAE : 10.88, R² : -0.01\n",
      "[====================================================================================================] 100%\n",
      "Model regression for split number 3 : RMSE : 25.02, MAE : 13.77, R² : -0.03\n",
      "[====================================================================================================] 100%\n",
      "Model regression for split number 4 : RMSE : 14.74, MAE : 9.61, R² : -0.06\n",
      "[====================================================================================================] 100%\n",
      "Model regression for split number 5 : RMSE : 17.33, MAE : 10.14, R² : -0.00\n",
      "Mean RMSE 18.78\n",
      "Cross validation with 6 time splits\n",
      "[====================================================================================================] 100%\n",
      "Model regression for split number 1 : RMSE : 16.42, MAE : 9.53, R² : -0.00\n",
      "[====================================================================================================] 100%\n",
      "Model regression for split number 2 : RMSE : 16.82, MAE : 9.45, R² : -0.00\n",
      "[====================================================================================================] 100%\n",
      "Model regression for split number 3 : RMSE : 25.63, MAE : 13.80, R² : -0.04\n",
      "[====================================================================================================] 100%\n",
      "Model regression for split number 4 : RMSE : 21.13, MAE : 12.09, R² : -0.00\n",
      "[====================================================================================================] 100%\n",
      "Model regression for split number 5 : RMSE : 14.20, MAE : 9.28, R² : -0.07\n",
      "[====================================================================================================] 100%\n",
      "Model regression for split number 6 : RMSE : 17.87, MAE : 10.32, R² : -0.00\n",
      "Mean RMSE 18.68\n",
      "Cross validation with 7 time splits\n",
      "[====================================================================================================] 100%\n",
      "Model regression for split number 1 : RMSE : 17.44, MAE : 9.96, R² : -0.00\n",
      "[====================================================================================================] 100%\n",
      "Model regression for split number 2 : RMSE : 15.84, MAE : 9.19, R² : -0.00\n",
      "[====================================================================================================] 100%\n",
      "Model regression for split number 3 : RMSE : 21.39, MAE : 11.48, R² : -0.01\n",
      "[====================================================================================================] 100%\n",
      "Model regression for split number 4 : RMSE : 26.86, MAE : 14.84, R² : -0.04\n",
      "[====================================================================================================] 100%\n",
      "Model regression for split number 5 : RMSE : 16.72, MAE : 10.46, R² : -0.02\n",
      "[====================================================================================================] 100%\n",
      "Model regression for split number 6 : RMSE : 13.53, MAE : 8.94, R² : -0.09\n",
      "[====================================================================================================] 100%\n",
      "Model regression for split number 7 : RMSE : 18.48, MAE : 10.56, R² : -0.00\n",
      "Mean RMSE 18.61\n",
      "Cross validation with 8 time splits\n",
      "[====================================================================================================] 100%\n",
      "Model regression for split number 1 : RMSE : 17.50, MAE : 9.75, R² : -0.00\n",
      "[====================================================================================================] 100%\n",
      "Model regression for split number 2 : RMSE : 16.84, MAE : 9.49, R² : -0.00\n",
      "[====================================================================================================] 100%\n",
      "Model regression for split number 3 : RMSE : 18.20, MAE : 9.95, R² : -0.00\n",
      "[====================================================================================================] 100%\n",
      "Model regression for split number 4 : RMSE : 26.02, MAE : 14.17, R² : -0.04\n",
      "[====================================================================================================] 100%\n",
      "Model regression for split number 5 : RMSE : 23.18, MAE : 13.16, R² : -0.01\n",
      "[====================================================================================================] 100%\n",
      "Model regression for split number 6 : RMSE : 15.27, MAE : 9.83, R² : -0.05\n",
      "[====================================================================================================] 100%\n",
      "Model regression for split number 7 : RMSE : 13.60, MAE : 8.83, R² : -0.08\n",
      "[====================================================================================================] 100%\n",
      "Model regression for split number 8 : RMSE : 18.92, MAE : 10.76, R² : -0.00\n",
      "Mean RMSE 18.69\n",
      "Cross validation with 9 time splits\n",
      "[====================================================================================================] 100%\n",
      "Model regression for split number 1 : RMSE : 17.27, MAE : 9.64, R² : -0.00\n",
      "[====================================================================================================] 100%\n",
      "Model regression for split number 2 : RMSE : 16.33, MAE : 9.21, R² : -0.00\n",
      "[====================================================================================================] 100%\n",
      "Model regression for split number 3 : RMSE : 17.01, MAE : 9.45, R² : -0.00\n",
      "[====================================================================================================] 100%\n",
      "Model regression for split number 4 : RMSE : 22.58, MAE : 12.08, R² : -0.02\n",
      "[====================================================================================================] 100%\n",
      "Model regression for split number 5 : RMSE : 27.57, MAE : 15.30, R² : -0.05\n",
      "[====================================================================================================] 100%\n",
      "Model regression for split number 6 : RMSE : 19.07, MAE : 11.37, R² : -0.00\n",
      "[====================================================================================================] 100%\n",
      "Model regression for split number 7 : RMSE : 14.67, MAE : 9.50, R² : -0.06\n",
      "[====================================================================================================] 100%\n",
      "Model regression for split number 8 : RMSE : 13.90, MAE : 8.84, R² : -0.06\n",
      "[====================================================================================================] 100%\n",
      "Model regression for split number 9 : RMSE : 19.30, MAE : 10.94, R² : -0.00\n",
      "Mean RMSE 18.63\n",
      "Cross validation with 10 time splits\n",
      "[====================================================================================================] 100%\n",
      "Model regression for split number 1 : RMSE : 17.71, MAE : 9.92, R² : -0.00\n",
      "[====================================================================================================] 100%\n",
      "Model regression for split number 2 : RMSE : 16.79, MAE : 9.53, R² : -0.00\n",
      "[====================================================================================================] 100%\n",
      "Model regression for split number 3 : RMSE : 16.32, MAE : 9.29, R² : -0.00\n",
      "[====================================================================================================] 100%\n",
      "Model regression for split number 4 : RMSE : 20.29, MAE : 10.87, R² : -0.01\n",
      "[====================================================================================================] 100%\n",
      "Model regression for split number 5 : RMSE : 25.16, MAE : 13.79, R² : -0.03\n",
      "[====================================================================================================] 100%\n",
      "Model regression for split number 6 : RMSE : 26.40, MAE : 14.89, R² : -0.03\n",
      "[====================================================================================================] 100%\n",
      "Model regression for split number 7 : RMSE : 15.15, MAE : 9.92, R² : -0.06\n",
      "[====================================================================================================] 100%\n",
      "Model regression for split number 8 : RMSE : 14.19, MAE : 9.26, R² : -0.06\n",
      "[====================================================================================================] 100%\n",
      "Model regression for split number 9 : RMSE : 13.60, MAE : 8.69, R² : -0.07\n",
      "[====================================================================================================] 100%\n",
      "Model regression for split number 10 : RMSE : 19.95, MAE : 11.25, R² : -0.01\n",
      "Mean RMSE 18.56\n"
     ]
    }
   ],
   "source": [
    "splits = [2, 3, 4, 5, 6, 7, 8, 9, 10]\n",
    "mae_split = []\n",
    "rmse_split = []\n",
    "r2_split = []\n",
    "\n",
    "# Model\n",
    "ridge = linear_model.Ridge()\n",
    "\n",
    "for split in splits :\n",
    "    print(\"Cross validation with %i time splits\" % split)\n",
    "    errors_splits, alphas_splits = time_cross_validation(ridge, X, y, 5, split)\n",
    "    \n",
    "    errors_array = np.array(errors_splits)\n",
    "    \n",
    "    mae_split.append(errors_array[:,0].mean())\n",
    "    rmse_split.append(errors_array[:,1].mean())\n",
    "    r2_split.append(errors_array[:,2].mean())\n",
    "    \n",
    "    print(\"Mean RMSE %.2f\" % errors_array[:,1].mean())"
   ]
  },
  {
   "cell_type": "code",
   "execution_count": 111,
   "metadata": {},
   "outputs": [
    {
     "data": {
      "image/png": "[encoded data removed]",
      "text/plain": [
       "<Figure size 720x360 with 2 Axes>"
      ]
     },
     "metadata": {},
     "output_type": "display_data"
    }
   ],
   "source": [
    "fig, ax1 = plt.subplots(figsize=(10,5))\n",
    "ax1.plot(splits, rmse_split, 'bo-')\n",
    "\n",
    "ax2 = ax1.twinx()\n",
    "ax2.plot(splits, mae_split, 'rx-')\n",
    "ax1.set_xlabel(\"Number of time splits\", fontsize=15)\n",
    "ax1.set_ylabel(\"Mean RMSE over time splits\", color='b', fontsize=15)\n",
    "ax2.set_ylabel(\"Mean MAE over time splits\", color='r', fontsize=15);"
   ]
  },
  {
   "cell_type": "markdown",
   "metadata": {},
   "source": [
    "The CV displays a best result for 7 time splits, but the model seems worse than the main Ridge Regression with all airports and all airlines."
   ]
  },
  {
   "cell_type": "markdown",
   "metadata": {},
   "source": [
    "# 8.2) Same data but ONE airline, ONE airport"
   ]
  },
  {
   "cell_type": "markdown",
   "metadata": {},
   "source": [
    "1) Loading dataframe (pickle)"
   ]
  },
  {
   "cell_type": "code",
   "execution_count": 120,
   "metadata": {},
   "outputs": [
    {
     "name": "stdout",
     "output_type": "stream",
     "text": [
      "80917 entries for this airport\n"
     ]
    },
    {
     "data": {
      "text/html": [
       "<div>\n",
       "<style scoped>\n",
       "    .dataframe tbody tr th:only-of-type {\n",
       "        vertical-align: middle;\n",
       "    }\n",
       "\n",
       "    .dataframe tbody tr th {\n",
       "        vertical-align: top;\n",
       "    }\n",
       "\n",
       "    .dataframe thead th {\n",
       "        text-align: right;\n",
       "    }\n",
       "</style>\n",
       "<table border=\"1\" class=\"dataframe\">\n",
       "  <thead>\n",
       "    <tr style=\"text-align: right;\">\n",
       "      <th></th>\n",
       "      <th>TAIL_NUM</th>\n",
       "      <th>ORIGIN_CITY_NAME</th>\n",
       "      <th>ARR_DELAY_NEW</th>\n",
       "      <th>DISTANCE</th>\n",
       "      <th>TIME_SECONDS</th>\n",
       "      <th>ARR_TIME_SECS</th>\n",
       "    </tr>\n",
       "  </thead>\n",
       "  <tbody>\n",
       "    <tr>\n",
       "      <th>339550</th>\n",
       "      <td>N707SA</td>\n",
       "      <td>Chicago, IL</td>\n",
       "      <td>0.0</td>\n",
       "      <td>1521.0</td>\n",
       "      <td>22500</td>\n",
       "      <td>30240.0</td>\n",
       "    </tr>\n",
       "    <tr>\n",
       "      <th>339642</th>\n",
       "      <td>N8645A</td>\n",
       "      <td>Chicago, IL</td>\n",
       "      <td>0.0</td>\n",
       "      <td>997.0</td>\n",
       "      <td>25200</td>\n",
       "      <td>39360.0</td>\n",
       "    </tr>\n",
       "  </tbody>\n",
       "</table>\n",
       "</div>"
      ],
      "text/plain": [
       "       TAIL_NUM ORIGIN_CITY_NAME  ARR_DELAY_NEW  DISTANCE  TIME_SECONDS  \\\n",
       "339550   N707SA      Chicago, IL            0.0    1521.0         22500   \n",
       "339642   N8645A      Chicago, IL            0.0     997.0         25200   \n",
       "\n",
       "        ARR_TIME_SECS  \n",
       "339550        30240.0  \n",
       "339642        39360.0  "
      ]
     },
     "execution_count": 120,
     "metadata": {},
     "output_type": "execute_result"
    }
   ],
   "source": [
    "with open(path + '/data/data_2016_1_airline_1_aiport.pkl', 'rb') as f :\n",
    "    data_1_airline_1_aiport = pickle.load(f)\n",
    "print(\"%i entries for this airport\" % data_1_airline_1_aiport.shape[0])\n",
    "data_1_airline_1_aiport.head(2)"
   ]
  },
  {
   "cell_type": "markdown",
   "metadata": {},
   "source": [
    "2) Standardise numerical features"
   ]
  },
  {
   "cell_type": "code",
   "execution_count": 124,
   "metadata": {},
   "outputs": [],
   "source": [
    "std_scale = preprocessing.StandardScaler().fit(data_1_airline_1_aiport.loc[:, ['TIME_SECONDS', 'ARR_TIME_SECS', 'DISTANCE']].values)\n",
    "data_num_1_airline_1_airport = pd.DataFrame(std_scale.transform(data_1_airline_1_aiport.loc[:, ['TIME_SECONDS', 'ARR_TIME_SECS', 'DISTANCE']].values), columns=['DEP_TIME_SECS_STD', 'ARR_TIME_SECS_STD', 'DISTANCE_STD'])\n",
    "# Reindex\n",
    "data_num_1_airline_1_airport.index = data_1_airline_1_aiport.index\n",
    "# Concat\n",
    "data_1_airport_reg = pd.concat((data_1_airline_1_aiport['ARR_DELAY_NEW'], data_num_1_airline_1_airport), axis=1)"
   ]
  },
  {
   "cell_type": "code",
   "execution_count": 126,
   "metadata": {},
   "outputs": [
    {
     "data": {
      "text/html": [
       "<div>\n",
       "<style scoped>\n",
       "    .dataframe tbody tr th:only-of-type {\n",
       "        vertical-align: middle;\n",
       "    }\n",
       "\n",
       "    .dataframe tbody tr th {\n",
       "        vertical-align: top;\n",
       "    }\n",
       "\n",
       "    .dataframe thead th {\n",
       "        text-align: right;\n",
       "    }\n",
       "</style>\n",
       "<table border=\"1\" class=\"dataframe\">\n",
       "  <thead>\n",
       "    <tr style=\"text-align: right;\">\n",
       "      <th></th>\n",
       "      <th>ARR_DELAY_NEW</th>\n",
       "      <th>DEP_TIME_SECS_STD</th>\n",
       "      <th>ARR_TIME_SECS_STD</th>\n",
       "      <th>DISTANCE_STD</th>\n",
       "    </tr>\n",
       "  </thead>\n",
       "  <tbody>\n",
       "    <tr>\n",
       "      <th>339550</th>\n",
       "      <td>0.0</td>\n",
       "      <td>-1.575404</td>\n",
       "      <td>-1.140637</td>\n",
       "      <td>1.489495</td>\n",
       "    </tr>\n",
       "    <tr>\n",
       "      <th>339642</th>\n",
       "      <td>0.0</td>\n",
       "      <td>-1.426590</td>\n",
       "      <td>-0.718927</td>\n",
       "      <td>0.377094</td>\n",
       "    </tr>\n",
       "  </tbody>\n",
       "</table>\n",
       "</div>"
      ],
      "text/plain": [
       "        ARR_DELAY_NEW  DEP_TIME_SECS_STD  ARR_TIME_SECS_STD  DISTANCE_STD\n",
       "339550            0.0          -1.575404          -1.140637      1.489495\n",
       "339642            0.0          -1.426590          -0.718927      0.377094"
      ]
     },
     "execution_count": 126,
     "metadata": {},
     "output_type": "execute_result"
    }
   ],
   "source": [
    "data_1_airport_reg.head(2)"
   ]
  },
  {
   "cell_type": "code",
   "execution_count": 127,
   "metadata": {},
   "outputs": [],
   "source": [
    "# Target : arrival delay\n",
    "y = data_1_airline_1_aiport.loc[:, 'ARR_DELAY_NEW']\n",
    "X = data_1_airport_reg.loc[:, data_1_airport_reg.columns  != 'ARR_DELAY_NEW']"
   ]
  },
  {
   "cell_type": "markdown",
   "metadata": {},
   "source": [
    "3) Cross validation"
   ]
  },
  {
   "cell_type": "code",
   "execution_count": 128,
   "metadata": {},
   "outputs": [
    {
     "name": "stdout",
     "output_type": "stream",
     "text": [
      "Cross validation with 2 time splits\n",
      "[====================================================================================================] 100%\n",
      "Model regression for split number 1 : RMSE : 22.35, MAE : 12.24, R² : -0.04\n",
      "[====================================================================================================] 100%\n",
      "Model regression for split number 2 : RMSE : 17.28, MAE : 10.98, R² : -0.00\n",
      "Mean RMSE 19.82\n",
      "Cross validation with 3 time splits\n",
      "[====================================================================================================] 100%\n",
      "Model regression for split number 1 : RMSE : 18.40, MAE : 10.31, R² : -0.01\n",
      "[====================================================================================================] 100%\n",
      "Model regression for split number 2 : RMSE : 21.72, MAE : 12.31, R² : -0.02\n",
      "[====================================================================================================] 100%\n",
      "Model regression for split number 3 : RMSE : 17.72, MAE : 11.07, R² : -0.00\n",
      "Mean RMSE 19.28\n",
      "Cross validation with 4 time splits\n",
      "[====================================================================================================] 100%\n",
      "Model regression for split number 1 : RMSE : 18.20, MAE : 9.82, R² : -0.02\n",
      "[====================================================================================================] 100%\n",
      "Model regression for split number 2 : RMSE : 23.54, MAE : 13.16, R² : -0.04\n",
      "[====================================================================================================] 100%\n",
      "Model regression for split number 3 : RMSE : 16.87, MAE : 10.67, R² : -0.01\n",
      "[====================================================================================================] 100%\n",
      "Model regression for split number 4 : RMSE : 18.55, MAE : 11.37, R² : -0.00\n",
      "Mean RMSE 19.29\n",
      "Cross validation with 5 time splits\n",
      "[====================================================================================================] 100%\n",
      "Model regression for split number 1 : RMSE : 16.98, MAE : 9.18, R² : -0.02\n",
      "[====================================================================================================] 100%\n",
      "Model regression for split number 2 : RMSE : 20.15, MAE : 11.04, R² : -0.02\n",
      "[====================================================================================================] 100%\n",
      "Model regression for split number 3 : RMSE : 24.16, MAE : 13.73, R² : -0.04\n",
      "[====================================================================================================] 100%\n",
      "Model regression for split number 4 : RMSE : 15.05, MAE : 10.04, R² : -0.03\n",
      "[====================================================================================================] 100%\n",
      "Model regression for split number 5 : RMSE : 19.27, MAE : 11.67, R² : -0.00\n",
      "Mean RMSE 19.12\n",
      "Cross validation with 6 time splits\n",
      "[====================================================================================================] 100%\n",
      "Model regression for split number 1 : RMSE : 16.31, MAE : 8.98, R² : -0.01\n",
      "[====================================================================================================] 100%\n",
      "Model regression for split number 2 : RMSE : 18.92, MAE : 10.34, R² : -0.01\n",
      "[====================================================================================================] 100%\n",
      "Model regression for split number 3 : RMSE : 25.13, MAE : 14.12, R² : -0.06\n",
      "[====================================================================================================] 100%\n",
      "Model regression for split number 4 : RMSE : 17.92, MAE : 11.11, R² : -0.00\n",
      "[====================================================================================================] 100%\n",
      "Model regression for split number 5 : RMSE : 15.41, MAE : 10.09, R² : -0.02\n",
      "[====================================================================================================] 100%\n",
      "Model regression for split number 6 : RMSE : 19.84, MAE : 11.94, R² : -0.00\n",
      "Mean RMSE 18.92\n",
      "Cross validation with 7 time splits\n",
      "[====================================================================================================] 100%\n",
      "Model regression for split number 1 : RMSE : 16.82, MAE : 9.43, R² : -0.00\n",
      "[====================================================================================================] 100%\n",
      "Model regression for split number 2 : RMSE : 15.37, MAE : 9.04, R² : -0.00\n",
      "[====================================================================================================] 100%\n",
      "Model regression for split number 3 : RMSE : 21.01, MAE : 11.57, R² : -0.02\n",
      "[====================================================================================================] 100%\n",
      "Model regression for split number 4 : RMSE : 25.74, MAE : 14.68, R² : -0.06\n",
      "[====================================================================================================] 100%\n",
      "Model regression for split number 5 : RMSE : 16.84, MAE : 10.65, R² : -0.01\n",
      "[====================================================================================================] 100%\n",
      "Model regression for split number 6 : RMSE : 14.44, MAE : 9.75, R² : -0.03\n",
      "[====================================================================================================] 100%\n",
      "Model regression for split number 7 : RMSE : 20.50, MAE : 12.25, R² : -0.01\n",
      "Mean RMSE 18.67\n",
      "Cross validation with 8 time splits\n",
      "[====================================================================================================] 100%\n",
      "Model regression for split number 1 : RMSE : 15.80, MAE : 8.85, R² : -0.00\n",
      "[====================================================================================================] 100%\n",
      "Model regression for split number 2 : RMSE : 16.16, MAE : 9.25, R² : -0.00\n",
      "[====================================================================================================] 100%\n",
      "Model regression for split number 3 : RMSE : 20.28, MAE : 11.07, R² : -0.02\n",
      "[====================================================================================================] 100%\n",
      "Model regression for split number 4 : RMSE : 25.35, MAE : 14.20, R² : -0.06\n",
      "[====================================================================================================] 100%\n",
      "Model regression for split number 5 : RMSE : 20.67, MAE : 12.41, R² : -0.01\n",
      "[====================================================================================================] 100%\n",
      "Model regression for split number 6 : RMSE : 15.23, MAE : 10.01, R² : -0.03\n",
      "[====================================================================================================] 100%\n",
      "Model regression for split number 7 : RMSE : 15.55, MAE : 10.09, R² : -0.01\n",
      "[====================================================================================================] 100%\n",
      "Model regression for split number 8 : RMSE : 20.58, MAE : 12.33, R² : -0.01\n",
      "Mean RMSE 18.70\n",
      "Cross validation with 9 time splits\n",
      "[====================================================================================================] 100%\n",
      "Model regression for split number 1 : RMSE : 15.78, MAE : 8.52, R² : -0.00\n",
      "[====================================================================================================] 100%\n",
      "Model regression for split number 2 : RMSE : 17.27, MAE : 9.45, R² : -0.01\n",
      "[====================================================================================================] 100%\n",
      "Model regression for split number 3 : RMSE : 19.01, MAE : 10.45, R² : -0.01\n",
      "[====================================================================================================] 100%\n",
      "Model regression for split number 4 : RMSE : 19.89, MAE : 11.24, R² : -0.01\n",
      "[====================================================================================================] 100%\n",
      "Model regression for split number 5 : RMSE : 26.58, MAE : 15.20, R² : -0.07\n",
      "[====================================================================================================] 100%\n",
      "Model regression for split number 6 : RMSE : 18.47, MAE : 11.29, R² : -0.00\n",
      "[====================================================================================================] 100%\n",
      "Model regression for split number 7 : RMSE : 15.10, MAE : 10.02, R² : -0.02\n",
      "[====================================================================================================] 100%\n",
      "Model regression for split number 8 : RMSE : 15.62, MAE : 10.04, R² : -0.02\n",
      "[====================================================================================================] 100%\n",
      "Model regression for split number 9 : RMSE : 21.10, MAE : 12.62, R² : -0.02\n",
      "Mean RMSE 18.76\n",
      "Cross validation with 10 time splits\n",
      "[====================================================================================================] 100%\n",
      "Model regression for split number 1 : RMSE : 15.16, MAE : 8.19, R² : -0.00\n",
      "[====================================================================================================] 100%\n",
      "Model regression for split number 2 : RMSE : 17.93, MAE : 9.75, R² : -0.02\n",
      "[====================================================================================================] 100%\n",
      "Model regression for split number 3 : RMSE : 16.54, MAE : 9.42, R² : -0.00\n",
      "[====================================================================================================] 100%\n",
      "Model regression for split number 4 : RMSE : 20.45, MAE : 11.27, R² : -0.02\n",
      "[====================================================================================================] 100%\n",
      "Model regression for split number 5 : RMSE : 23.04, MAE : 12.92, R² : -0.04\n",
      "[====================================================================================================] 100%\n",
      "Model regression for split number 6 : RMSE : 25.93, MAE : 15.09, R² : -0.06\n",
      "[====================================================================================================] 100%\n",
      "Model regression for split number 7 : RMSE : 15.24, MAE : 10.11, R² : -0.04\n",
      "[====================================================================================================] 100%\n",
      "Model regression for split number 8 : RMSE : 14.71, MAE : 9.83, R² : -0.02\n",
      "[====================================================================================================] 100%\n",
      "Model regression for split number 9 : RMSE : 15.53, MAE : 9.95, R² : -0.02\n",
      "[====================================================================================================] 100%\n",
      "Model regression for split number 10 : RMSE : 21.94, MAE : 13.07, R² : -0.03\n",
      "Mean RMSE 18.65\n"
     ]
    }
   ],
   "source": [
    "splits = [2, 3, 4, 5, 6, 7, 8, 9, 10]\n",
    "mae_split = []\n",
    "rmse_split = []\n",
    "r2_split = []\n",
    "\n",
    "# Model\n",
    "ridge = linear_model.Ridge()\n",
    "\n",
    "for split in splits :\n",
    "    print(\"Cross validation with %i time splits\" % split)\n",
    "    errors_splits, alphas_splits = time_cross_validation(ridge, X, y, 5, split)\n",
    "    \n",
    "    errors_array = np.array(errors_splits)\n",
    "    \n",
    "    mae_split.append(errors_array[:,0].mean())\n",
    "    rmse_split.append(errors_array[:,1].mean())\n",
    "    r2_split.append(errors_array[:,2].mean())\n",
    "    \n",
    "    print(\"Mean RMSE %.2f\" % errors_array[:,1].mean())"
   ]
  },
  {
   "cell_type": "code",
   "execution_count": 129,
   "metadata": {},
   "outputs": [
    {
     "data": {
      "image/png": "[encoded data removed]",
      "text/plain": [
       "<Figure size 720x360 with 2 Axes>"
      ]
     },
     "metadata": {},
     "output_type": "display_data"
    }
   ],
   "source": [
    "fig, ax1 = plt.subplots(figsize=(10,5))\n",
    "ax1.plot(splits, rmse_split, 'bo-')\n",
    "\n",
    "ax2 = ax1.twinx()\n",
    "ax2.plot(splits, mae_split, 'rx-')\n",
    "ax1.set_xlabel(\"Number of time splits\", fontsize=15)\n",
    "ax1.set_ylabel(\"Mean RMSE over time splits\", color='b', fontsize=15)\n",
    "ax2.set_ylabel(\"Mean MAE over time splits\", color='r', fontsize=15);"
   ]
  },
  {
   "cell_type": "markdown",
   "metadata": {},
   "source": [
    "The CV displays a best result for 10 time splits, AND the model seems better than the main Ridge Regression with all airports and all airlines"
   ]
  },
  {
   "cell_type": "markdown",
   "metadata": {},
   "source": [
    "BUT, this is only a regression model toward departure time of the day"
   ]
  },
  {
   "cell_type": "markdown",
   "metadata": {},
   "source": [
    "# 8.3) Same data but ONE airline, ALL airports"
   ]
  },
  {
   "cell_type": "markdown",
   "metadata": {},
   "source": [
    "1) Loading dataframe (pickle)"
   ]
  },
  {
   "cell_type": "code",
   "execution_count": 130,
   "metadata": {},
   "outputs": [
    {
     "name": "stdout",
     "output_type": "stream",
     "text": [
      "1265267 entries for this airport\n"
     ]
    },
    {
     "data": {
      "text/html": [
       "<div>\n",
       "<style scoped>\n",
       "    .dataframe tbody tr th:only-of-type {\n",
       "        vertical-align: middle;\n",
       "    }\n",
       "\n",
       "    .dataframe tbody tr th {\n",
       "        vertical-align: top;\n",
       "    }\n",
       "\n",
       "    .dataframe thead th {\n",
       "        text-align: right;\n",
       "    }\n",
       "</style>\n",
       "<table border=\"1\" class=\"dataframe\">\n",
       "  <thead>\n",
       "    <tr style=\"text-align: right;\">\n",
       "      <th></th>\n",
       "      <th>TAIL_NUM</th>\n",
       "      <th>ORIGIN_AIRPORT_ID</th>\n",
       "      <th>ORIGIN_CITY_NAME</th>\n",
       "      <th>ARR_DELAY_NEW</th>\n",
       "      <th>DISTANCE</th>\n",
       "      <th>TIME_SECONDS</th>\n",
       "      <th>ARR_TIME_SECS</th>\n",
       "    </tr>\n",
       "  </thead>\n",
       "  <tbody>\n",
       "    <tr>\n",
       "      <th>338103</th>\n",
       "      <td>N551WN</td>\n",
       "      <td>12391</td>\n",
       "      <td>Islip, NY</td>\n",
       "      <td>0.0</td>\n",
       "      <td>1052.0</td>\n",
       "      <td>19800</td>\n",
       "      <td>31200.0</td>\n",
       "    </tr>\n",
       "    <tr>\n",
       "      <th>337880</th>\n",
       "      <td>N210WN</td>\n",
       "      <td>11697</td>\n",
       "      <td>Fort Lauderdale, FL</td>\n",
       "      <td>0.0</td>\n",
       "      <td>581.0</td>\n",
       "      <td>19800</td>\n",
       "      <td>27600.0</td>\n",
       "    </tr>\n",
       "  </tbody>\n",
       "</table>\n",
       "</div>"
      ],
      "text/plain": [
       "       TAIL_NUM  ORIGIN_AIRPORT_ID     ORIGIN_CITY_NAME  ARR_DELAY_NEW  \\\n",
       "338103   N551WN              12391            Islip, NY            0.0   \n",
       "337880   N210WN              11697  Fort Lauderdale, FL            0.0   \n",
       "\n",
       "        DISTANCE  TIME_SECONDS  ARR_TIME_SECS  \n",
       "338103    1052.0         19800        31200.0  \n",
       "337880     581.0         19800        27600.0  "
      ]
     },
     "execution_count": 130,
     "metadata": {},
     "output_type": "execute_result"
    }
   ],
   "source": [
    "with open(path + '/data/data_2016_1_airline.pkl', 'rb') as f :\n",
    "    data_1_airline = pickle.load(f)\n",
    "print(\"%i entries for this airport\" % data_1_airline.shape[0])\n",
    "data_1_airline.head(2)"
   ]
  },
  {
   "cell_type": "markdown",
   "metadata": {},
   "source": [
    "2) One Hot encoding departure airports"
   ]
  },
  {
   "cell_type": "code",
   "execution_count": 131,
   "metadata": {},
   "outputs": [],
   "source": [
    "oh_dep_airport = pd.get_dummies(data_1_airline.ORIGIN_AIRPORT_ID)"
   ]
  },
  {
   "cell_type": "markdown",
   "metadata": {},
   "source": [
    "3) Standardise numerical features"
   ]
  },
  {
   "cell_type": "code",
   "execution_count": 133,
   "metadata": {},
   "outputs": [],
   "source": [
    "std_scale = preprocessing.StandardScaler().fit(data_1_airline.loc[:, ['TIME_SECONDS', 'ARR_TIME_SECS', 'DISTANCE']].values)\n",
    "data_num_1_airline = pd.DataFrame(std_scale.transform(data_1_airline.loc[:, ['TIME_SECONDS', 'ARR_TIME_SECS', 'DISTANCE']].values), columns=['DEP_TIME_SECS_STD', 'ARR_TIME_SECS_STD', 'DISTANCE_STD'])\n",
    "# Reindex\n",
    "data_num_1_airline.index = oh_dep_airport.index\n",
    "# Concat\n",
    "data_1_airline_reg = pd.concat((oh_dep_airport, data_num_1_airline), axis=1)"
   ]
  },
  {
   "cell_type": "markdown",
   "metadata": {},
   "source": [
    "4) Concatenate everything into processed data"
   ]
  },
  {
   "cell_type": "code",
   "execution_count": 134,
   "metadata": {},
   "outputs": [
    {
     "data": {
      "text/html": [
       "<div>\n",
       "<style scoped>\n",
       "    .dataframe tbody tr th:only-of-type {\n",
       "        vertical-align: middle;\n",
       "    }\n",
       "\n",
       "    .dataframe tbody tr th {\n",
       "        vertical-align: top;\n",
       "    }\n",
       "\n",
       "    .dataframe thead th {\n",
       "        text-align: right;\n",
       "    }\n",
       "</style>\n",
       "<table border=\"1\" class=\"dataframe\">\n",
       "  <thead>\n",
       "    <tr style=\"text-align: right;\">\n",
       "      <th></th>\n",
       "      <th>10140</th>\n",
       "      <th>10257</th>\n",
       "      <th>10279</th>\n",
       "      <th>10397</th>\n",
       "      <th>10423</th>\n",
       "      <th>10529</th>\n",
       "      <th>10599</th>\n",
       "      <th>10693</th>\n",
       "      <th>10713</th>\n",
       "      <th>10721</th>\n",
       "      <th>...</th>\n",
       "      <th>14893</th>\n",
       "      <th>14908</th>\n",
       "      <th>15016</th>\n",
       "      <th>15304</th>\n",
       "      <th>15370</th>\n",
       "      <th>15376</th>\n",
       "      <th>DEP_TIME_SECS_STD</th>\n",
       "      <th>ARR_TIME_SECS_STD</th>\n",
       "      <th>DISTANCE_STD</th>\n",
       "      <th>ARR_DELAY_NEW</th>\n",
       "    </tr>\n",
       "  </thead>\n",
       "  <tbody>\n",
       "    <tr>\n",
       "      <th>338103</th>\n",
       "      <td>0</td>\n",
       "      <td>0</td>\n",
       "      <td>0</td>\n",
       "      <td>0</td>\n",
       "      <td>0</td>\n",
       "      <td>0</td>\n",
       "      <td>0</td>\n",
       "      <td>0</td>\n",
       "      <td>0</td>\n",
       "      <td>0</td>\n",
       "      <td>...</td>\n",
       "      <td>0</td>\n",
       "      <td>0</td>\n",
       "      <td>0</td>\n",
       "      <td>0</td>\n",
       "      <td>0</td>\n",
       "      <td>0</td>\n",
       "      <td>-1.666111</td>\n",
       "      <td>-1.292933</td>\n",
       "      <td>0.654746</td>\n",
       "      <td>0.0</td>\n",
       "    </tr>\n",
       "    <tr>\n",
       "      <th>337880</th>\n",
       "      <td>0</td>\n",
       "      <td>0</td>\n",
       "      <td>0</td>\n",
       "      <td>0</td>\n",
       "      <td>0</td>\n",
       "      <td>0</td>\n",
       "      <td>0</td>\n",
       "      <td>0</td>\n",
       "      <td>0</td>\n",
       "      <td>0</td>\n",
       "      <td>...</td>\n",
       "      <td>0</td>\n",
       "      <td>0</td>\n",
       "      <td>0</td>\n",
       "      <td>0</td>\n",
       "      <td>0</td>\n",
       "      <td>0</td>\n",
       "      <td>-1.666111</td>\n",
       "      <td>-1.485725</td>\n",
       "      <td>-0.367602</td>\n",
       "      <td>0.0</td>\n",
       "    </tr>\n",
       "  </tbody>\n",
       "</table>\n",
       "<p>2 rows × 91 columns</p>\n",
       "</div>"
      ],
      "text/plain": [
       "        10140  10257  10279  10397  10423  10529  10599  10693  10713  10721  \\\n",
       "338103      0      0      0      0      0      0      0      0      0      0   \n",
       "337880      0      0      0      0      0      0      0      0      0      0   \n",
       "\n",
       "            ...        14893  14908  15016  15304  15370  15376  \\\n",
       "338103      ...            0      0      0      0      0      0   \n",
       "337880      ...            0      0      0      0      0      0   \n",
       "\n",
       "        DEP_TIME_SECS_STD  ARR_TIME_SECS_STD  DISTANCE_STD  ARR_DELAY_NEW  \n",
       "338103          -1.666111          -1.292933      0.654746            0.0  \n",
       "337880          -1.666111          -1.485725     -0.367602            0.0  \n",
       "\n",
       "[2 rows x 91 columns]"
      ]
     },
     "metadata": {},
     "output_type": "display_data"
    }
   ],
   "source": [
    "data_1_airline_reg = pd.concat((data_1_airline_reg, data_1_airline.loc[:, 'ARR_DELAY_NEW']), axis=1)\n",
    "display(data_1_airline_reg.head(2))"
   ]
  },
  {
   "cell_type": "code",
   "execution_count": 135,
   "metadata": {},
   "outputs": [],
   "source": [
    "# Target : arrival delay\n",
    "y = data_1_airline_reg.loc[:, 'ARR_DELAY_NEW']\n",
    "X = data_1_airline_reg.loc[:, data_1_airline_reg.columns  != 'ARR_DELAY_NEW']"
   ]
  },
  {
   "cell_type": "markdown",
   "metadata": {},
   "source": [
    "7) Cross validation"
   ]
  },
  {
   "cell_type": "code",
   "execution_count": 136,
   "metadata": {},
   "outputs": [
    {
     "name": "stdout",
     "output_type": "stream",
     "text": [
      "Cross validation with 2 time splits\n",
      "[====================================================================================================] 100%\n",
      "Model regression for split number 1 : RMSE : 22.19, MAE : 12.49, R² : -0.03\n",
      "[====================================================================================================] 100%\n",
      "Model regression for split number 2 : RMSE : 17.78, MAE : 11.31, R² : -0.00\n",
      "Mean RMSE 19.99\n",
      "Cross validation with 3 time splits\n",
      "[====================================================================================================] 100%\n",
      "Model regression for split number 1 : RMSE : 20.31, MAE : 11.40, R² : -0.02\n",
      "[====================================================================================================] 100%\n",
      "Model regression for split number 2 : RMSE : 21.04, MAE : 12.36, R² : -0.00\n",
      "[====================================================================================================] 100%\n",
      "Model regression for split number 3 : RMSE : 18.06, MAE : 11.34, R² : -0.00\n",
      "Mean RMSE 19.80\n",
      "Cross validation with 4 time splits\n",
      "[====================================================================================================] 100%\n",
      "Model regression for split number 1 : RMSE : 19.09, MAE : 10.43, R² : -0.02\n",
      "[====================================================================================================] 100%\n",
      "Model regression for split number 2 : RMSE : 24.00, MAE : 13.62, R² : -0.04\n",
      "[====================================================================================================] 100%\n",
      "Model regression for split number 3 : RMSE : 17.27, MAE : 11.07, R² : -0.01\n",
      "[====================================================================================================] 100%\n",
      "Model regression for split number 4 : RMSE : 18.74, MAE : 11.57, R² : 0.00\n",
      "Mean RMSE 19.77\n",
      "Cross validation with 5 time splits\n",
      "[====================================================================================================] 100%\n",
      "Model regression for split number 1 : RMSE : 18.90, MAE : 10.19, R² : -0.02\n",
      "[====================================================================================================] 100%\n",
      "Model regression for split number 2 : RMSE : 21.33, MAE : 12.05, R² : -0.02\n",
      "[====================================================================================================] 100%\n",
      "Model regression for split number 3 : RMSE : 22.87, MAE : 13.35, R² : -0.02\n",
      "[====================================================================================================] 100%\n",
      "Model regression for split number 4 : RMSE : 16.55, MAE : 10.74, R² : -0.02\n",
      "[====================================================================================================] 100%\n",
      "Model regression for split number 5 : RMSE : 18.93, MAE : 11.66, R² : -0.00\n",
      "Mean RMSE 19.72\n",
      "Cross validation with 6 time splits\n",
      "[====================================================================================================] 100%\n",
      "Model regression for split number 1 : RMSE : 18.20, MAE : 9.98, R² : -0.01\n",
      "[====================================================================================================] 100%\n",
      "Model regression for split number 2 : RMSE : 19.00, MAE : 10.80, R² : -0.01\n",
      "[====================================================================================================] 100%\n",
      "Model regression for split number 3 : RMSE : 24.94, MAE : 14.18, R² : -0.05\n",
      "[====================================================================================================] 100%\n",
      "Model regression for split number 4 : RMSE : 18.77, MAE : 11.70, R² : -0.00\n",
      "[====================================================================================================] 100%\n",
      "Model regression for split number 5 : RMSE : 16.72, MAE : 10.72, R² : -0.01\n",
      "[====================================================================================================] 100%\n",
      "Model regression for split number 6 : RMSE : 19.33, MAE : 11.84, R² : -0.00\n",
      "Mean RMSE 19.49\n",
      "Cross validation with 7 time splits\n",
      "[====================================================================================================] 100%\n",
      "Model regression for split number 1 : RMSE : 17.80, MAE : 9.86, R² : -0.00\n",
      "[====================================================================================================] 100%\n",
      "Model regression for split number 2 : RMSE : 17.95, MAE : 10.27, R² : -0.00\n",
      "[====================================================================================================] 100%\n",
      "Model regression for split number 3 : RMSE : 22.37, MAE : 12.67, R² : -0.03\n",
      "[====================================================================================================] 100%\n",
      "Model regression for split number 4 : RMSE : 24.10, MAE : 14.02, R² : -0.03\n",
      "[====================================================================================================] 100%\n",
      "Model regression for split number 5 : RMSE : 17.52, MAE : 11.15, R² : -0.01\n",
      "[====================================================================================================] 100%\n",
      "Model regression for split number 6 : RMSE : 16.08, MAE : 10.44, R² : -0.02\n",
      "[====================================================================================================] 100%\n",
      "Model regression for split number 7 : RMSE : 19.86, MAE : 12.10, R² : -0.00\n",
      "Mean RMSE 19.38\n",
      "Cross validation with 8 time splits\n",
      "[====================================================================================================] 100%\n",
      "Model regression for split number 1 : RMSE : 17.09, MAE : 9.41, R² : -0.00\n",
      "[====================================================================================================] 100%\n",
      "Model regression for split number 2 : RMSE : 18.89, MAE : 10.49, R² : -0.01\n",
      "[====================================================================================================] 100%\n",
      "Model regression for split number 3 : RMSE : 19.95, MAE : 11.33, R² : -0.01\n",
      "[====================================================================================================] 100%\n",
      "Model regression for split number 4 : RMSE : 24.85, MAE : 14.17, R² : -0.04\n",
      "[====================================================================================================] 100%\n",
      "Model regression for split number 5 : RMSE : 21.21, MAE : 12.82, R² : -0.01\n",
      "[====================================================================================================] 100%\n",
      "Model regression for split number 6 : RMSE : 16.17, MAE : 10.57, R² : -0.03\n",
      "[====================================================================================================] 100%\n",
      "Model regression for split number 7 : RMSE : 16.66, MAE : 10.61, R² : -0.01\n",
      "[====================================================================================================] 100%\n",
      "Model regression for split number 8 : RMSE : 20.23, MAE : 12.29, R² : -0.01\n",
      "Mean RMSE 19.38\n",
      "Cross validation with 9 time splits\n",
      "[====================================================================================================] 100%\n",
      "Model regression for split number 1 : RMSE : 15.88, MAE : 8.96, R² : -0.00\n",
      "[====================================================================================================] 100%\n",
      "Model regression for split number 2 : RMSE : 19.21, MAE : 10.49, R² : -0.02\n",
      "[====================================================================================================] 100%\n",
      "Model regression for split number 3 : RMSE : 18.87, MAE : 10.75, R² : -0.01\n",
      "[====================================================================================================] 100%\n",
      "Model regression for split number 4 : RMSE : 22.75, MAE : 12.95, R² : -0.03\n",
      "[====================================================================================================] 100%\n",
      "Model regression for split number 5 : RMSE : 25.03, MAE : 14.57, R² : -0.04\n",
      "[====================================================================================================] 100%\n",
      "Model regression for split number 6 : RMSE : 18.19, MAE : 11.46, R² : -0.00\n",
      "[====================================================================================================] 100%\n",
      "Model regression for split number 7 : RMSE : 16.28, MAE : 10.57, R² : -0.02\n",
      "[====================================================================================================] 100%\n",
      "Model regression for split number 8 : RMSE : 16.34, MAE : 10.44, R² : -0.01\n",
      "[====================================================================================================] 100%\n",
      "Model regression for split number 9 : RMSE : 20.88, MAE : 12.60, R² : -0.01\n",
      "Mean RMSE 19.27\n",
      "Cross validation with 10 time splits\n",
      "[====================================================================================================] 100%\n",
      "Model regression for split number 1 : RMSE : 15.44, MAE : 8.83, R² : -0.00\n",
      "[====================================================================================================] 100%\n",
      "Model regression for split number 2 : RMSE : 19.88, MAE : 10.75, R² : -0.03\n",
      "[====================================================================================================] 100%\n",
      "Model regression for split number 3 : RMSE : 17.67, MAE : 10.24, R² : -0.00\n",
      "[====================================================================================================] 100%\n",
      "Model regression for split number 4 : RMSE : 20.95, MAE : 11.89, R² : -0.02\n",
      "[====================================================================================================] 100%\n",
      "Model regression for split number 5 : RMSE : 22.29, MAE : 12.93, R² : -0.02\n",
      "[====================================================================================================] 100%\n",
      "Model regression for split number 6 : RMSE : 25.35, MAE : 14.80, R² : -0.04\n",
      "[====================================================================================================] 100%\n",
      "Model regression for split number 7 : RMSE : 16.79, MAE : 10.86, R² : -0.02\n",
      "[====================================================================================================] 100%\n",
      "Model regression for split number 8 : RMSE : 16.49, MAE : 10.64, R² : -0.01\n",
      "[====================================================================================================] 100%\n",
      "Model regression for split number 9 : RMSE : 15.92, MAE : 10.31, R² : -0.02\n",
      "[====================================================================================================] 100%\n",
      "Model regression for split number 10 : RMSE : 21.25, MAE : 12.77, R² : -0.01\n",
      "Mean RMSE 19.20\n"
     ]
    }
   ],
   "source": [
    "splits = [2, 3, 4, 5, 6, 7, 8, 9, 10]\n",
    "mae_split = []\n",
    "rmse_split = []\n",
    "r2_split = []\n",
    "\n",
    "# Model\n",
    "ridge = linear_model.Ridge()\n",
    "\n",
    "for split in splits :\n",
    "    print(\"Cross validation with %i time splits\" % split)\n",
    "    errors_splits, alphas_splits = time_cross_validation(ridge, X, y, 5, split)\n",
    "    \n",
    "    errors_array = np.array(errors_splits)\n",
    "    \n",
    "    mae_split.append(errors_array[:,0].mean())\n",
    "    rmse_split.append(errors_array[:,1].mean())\n",
    "    r2_split.append(errors_array[:,2].mean())\n",
    "    \n",
    "    print(\"Mean RMSE %.2f\" % errors_array[:,1].mean())"
   ]
  },
  {
   "cell_type": "code",
   "execution_count": 137,
   "metadata": {},
   "outputs": [
    {
     "data": {
      "image/png": "[encoded data removed]",
      "text/plain": [
       "<Figure size 720x360 with 2 Axes>"
      ]
     },
     "metadata": {},
     "output_type": "display_data"
    }
   ],
   "source": [
    "fig, ax1 = plt.subplots(figsize=(10,5))\n",
    "ax1.plot(splits, rmse_split, 'bo-')\n",
    "\n",
    "ax2 = ax1.twinx()\n",
    "ax2.plot(splits, mae_split, 'rx-')\n",
    "ax1.set_xlabel(\"Number of time splits\", fontsize=15)\n",
    "ax1.set_ylabel(\"Mean RMSE over time splits\", color='b', fontsize=15)\n",
    "ax2.set_ylabel(\"Mean MAE over time splits\", color='r', fontsize=15);"
   ]
  },
  {
   "cell_type": "markdown",
   "metadata": {},
   "source": [
    "The CV displays a best result for 10 time splits, AND the model seems better than the main Ridge Regression with all airports and all airlines"
   ]
  },
  {
   "cell_type": "markdown",
   "metadata": {},
   "source": [
    "# 9) Model to keep"
   ]
  },
  {
   "cell_type": "markdown",
   "metadata": {},
   "source": [
    "The best model so far seems to be the ONE airline / ONE airport model. And this makes sens.\n",
    "\n",
    "In fact if an airline or an airport is reasponsible for more delays than other airlines or other airports, learning over all airlines or airports won't necessarily help in predicting delays for our specific airline or airport."
   ]
  },
  {
   "cell_type": "markdown",
   "metadata": {},
   "source": [
    "Last grid search for our test model :"
   ]
  },
  {
   "cell_type": "code",
   "execution_count": 153,
   "metadata": {
    "scrolled": true
   },
   "outputs": [
    {
     "name": "stdout",
     "output_type": "stream",
     "text": [
      "80917 entries for this airport and this airline\n"
     ]
    }
   ],
   "source": [
    "with open(path + '/data/data_2016_1_airline_1_aiport.pkl', 'rb') as f :\n",
    "    data_1_airline_1_aiport = pickle.load(f)\n",
    "print(\"%i entries for this airport and this airline\" % data_1_airline_1_aiport.shape[0])"
   ]
  },
  {
   "cell_type": "markdown",
   "metadata": {},
   "source": [
    "Standardise departure time"
   ]
  },
  {
   "cell_type": "code",
   "execution_count": 154,
   "metadata": {},
   "outputs": [],
   "source": [
    "std_scale = preprocessing.StandardScaler().fit(data_1_airline_1_aiport.loc[:, ['TIME_SECONDS', 'ARR_TIME_SECS', 'DISTANCE']].values)\n",
    "data_num_1_airline_1_airport = pd.DataFrame(std_scale.transform(data_1_airline_1_aiport.loc[:, ['TIME_SECONDS', 'ARR_TIME_SECS', 'DISTANCE']].values), columns=['DEP_TIME_SECS_STD', 'ARR_TIME_SECS_STD', 'DISTANCE_STD'])\n",
    "# Reindex\n",
    "data_num_1_airline_1_airport.index = data_1_airline_1_aiport.index\n",
    "# Concat\n",
    "data_1_airline_1_aiport_reg = pd.concat((data_1_airline_1_aiport['ARR_DELAY_NEW'], data_num_1_airline_1_airport), axis=1)"
   ]
  },
  {
   "cell_type": "code",
   "execution_count": 155,
   "metadata": {},
   "outputs": [
    {
     "data": {
      "text/html": [
       "<div>\n",
       "<style scoped>\n",
       "    .dataframe tbody tr th:only-of-type {\n",
       "        vertical-align: middle;\n",
       "    }\n",
       "\n",
       "    .dataframe tbody tr th {\n",
       "        vertical-align: top;\n",
       "    }\n",
       "\n",
       "    .dataframe thead th {\n",
       "        text-align: right;\n",
       "    }\n",
       "</style>\n",
       "<table border=\"1\" class=\"dataframe\">\n",
       "  <thead>\n",
       "    <tr style=\"text-align: right;\">\n",
       "      <th></th>\n",
       "      <th>ARR_DELAY_NEW</th>\n",
       "      <th>DEP_TIME_SECS_STD</th>\n",
       "      <th>ARR_TIME_SECS_STD</th>\n",
       "      <th>DISTANCE_STD</th>\n",
       "    </tr>\n",
       "  </thead>\n",
       "  <tbody>\n",
       "    <tr>\n",
       "      <th>339550</th>\n",
       "      <td>0.0</td>\n",
       "      <td>-1.575404</td>\n",
       "      <td>-1.140637</td>\n",
       "      <td>1.489495</td>\n",
       "    </tr>\n",
       "    <tr>\n",
       "      <th>339642</th>\n",
       "      <td>0.0</td>\n",
       "      <td>-1.426590</td>\n",
       "      <td>-0.718927</td>\n",
       "      <td>0.377094</td>\n",
       "    </tr>\n",
       "  </tbody>\n",
       "</table>\n",
       "</div>"
      ],
      "text/plain": [
       "        ARR_DELAY_NEW  DEP_TIME_SECS_STD  ARR_TIME_SECS_STD  DISTANCE_STD\n",
       "339550            0.0          -1.575404          -1.140637      1.489495\n",
       "339642            0.0          -1.426590          -0.718927      0.377094"
      ]
     },
     "execution_count": 155,
     "metadata": {},
     "output_type": "execute_result"
    }
   ],
   "source": [
    "data_1_airline_1_aiport_reg.head(2)"
   ]
  },
  {
   "cell_type": "code",
   "execution_count": 156,
   "metadata": {},
   "outputs": [],
   "source": [
    "# Target : arrival delay\n",
    "y = data_1_airline_1_aiport_reg.loc[:, 'ARR_DELAY_NEW']\n",
    "X = data_1_airline_1_aiport_reg.loc[:, data_1_airline_1_aiport_reg.columns  != 'ARR_DELAY_NEW']"
   ]
  },
  {
   "cell_type": "markdown",
   "metadata": {},
   "source": [
    "From previous test we saw that splitting our dataset in 7 time splits gave the smallest RMSE"
   ]
  },
  {
   "cell_type": "code",
   "execution_count": 157,
   "metadata": {},
   "outputs": [],
   "source": [
    "n_splits = 7\n",
    "# Create time splits\n",
    "tscv = model_selection.TimeSeriesSplit(n_splits=n_splits)\n",
    "\n",
    "# Initialise outputs\n",
    "errors_cv = []\n",
    "\n",
    "best_rmse = 9999\n",
    "# Model\n",
    "model = linear_model.LinearRegression()\n",
    "best_model = copy.deepcopy(model)\n",
    "# Training and testing sets\n",
    "X_train_final = X\n",
    "y_train_final = y\n",
    "X_test_final = X\n",
    "y_test_final = y\n",
    "\n",
    "# Time cross-validation\n",
    "for train_index, test_index in tscv.split(X):\n",
    "    # Create train and test sets\n",
    "    X_train_cv, X_test_cv = X.iloc[train_index, :], X.iloc[test_index, :]\n",
    "    y_train_cv, y_test_cv = y.iloc[train_index], y.iloc[test_index]\n",
    "    \n",
    "    # Training the model with training set\n",
    "    model.fit(X_train_cv, y_train_cv)\n",
    "    \n",
    "    # Prediction\n",
    "    prediction = model.predict(X_test_cv)\n",
    "    # Get Root Mean Squared Error\n",
    "    mse = metrics.mean_squared_error(y_test_cv, prediction)\n",
    "    rmse = math.sqrt(mse)\n",
    "    # Get Mean Absolute Error\n",
    "    mae = metrics.mean_absolute_error(y_test_cv, prediction)\n",
    "    # Get Determination Coefficient\n",
    "    r2 = metrics.r2_score(y_test_cv, prediction)\n",
    "    \n",
    "    if rmse < best_rmse :\n",
    "        best_rmse = rmse\n",
    "        best_model = copy.deepcopy(model)\n",
    "        X_train_final = X_train_cv\n",
    "        y_train_final = y_train_cv\n",
    "        X_test_final = X_test_cv\n",
    "        y_test_final = y_test_cv\n",
    "        \n",
    "    # Save errors\n",
    "    errors_cv.append([rmse, mae, r2])"
   ]
  },
  {
   "cell_type": "code",
   "execution_count": 158,
   "metadata": {},
   "outputs": [
    {
     "name": "stdout",
     "output_type": "stream",
     "text": [
      "Linear regression on training set : RMSE : 18.62, MAE : 11.11, R² : 0.03\n",
      "Linear regression on testing set : RMSE : 14.34, MAE : 9.49, R² : -0.01\n"
     ]
    }
   ],
   "source": [
    "display_metrics(\"Linear regression on training set\", best_model, X_train_final, y_train_final)\n",
    "display_metrics(\"Linear regression on testing set\", best_model, X_test_final, y_test_final);"
   ]
  },
  {
   "cell_type": "markdown",
   "metadata": {},
   "source": [
    "# 10) Prophet prediction over mean delays by day - WORK TO BE DONE"
   ]
  },
  {
   "cell_type": "markdown",
   "metadata": {},
   "source": [
    "The best model so far seems to be the ONE airline / ONE airport model. Instead of using linear regression or other kind of regression over flight departure time, let's try to forecast delays based on our time-serie."
   ]
  },
  {
   "cell_type": "markdown",
   "metadata": {},
   "source": [
    "Loading prophet module"
   ]
  },
  {
   "cell_type": "code",
   "execution_count": 165,
   "metadata": {},
   "outputs": [],
   "source": [
    "from fbprophet import Prophet"
   ]
  },
  {
   "cell_type": "markdown",
   "metadata": {},
   "source": [
    "Loading data for one airline and one airport"
   ]
  },
  {
   "cell_type": "code",
   "execution_count": 166,
   "metadata": {
    "scrolled": true
   },
   "outputs": [
    {
     "name": "stdout",
     "output_type": "stream",
     "text": [
      "80917 entries for this airport and this airline\n"
     ]
    }
   ],
   "source": [
    "# Getting current path\n",
    "path = os.getcwd()\n",
    "with open(path + '/data/data_2016_1_airline_1_aiport_prophet.pkl', 'rb') as f :\n",
    "    data_1_airline_1_aiport_prophet = pickle.load(f)\n",
    "print(\"%i entries for this airport and this airline\" % data_1_airline_1_aiport_prophet.shape[0])"
   ]
  },
  {
   "cell_type": "markdown",
   "metadata": {},
   "source": [
    "Converting date time to date (prophet requirement)"
   ]
  },
  {
   "cell_type": "code",
   "execution_count": 167,
   "metadata": {},
   "outputs": [],
   "source": [
    "data_1_airline_1_aiport_prophet.loc[:, 'ds'] = data_1_airline_1_aiport_prophet.loc[:, 'DATE_TIME'].apply(lambda x : x.date())"
   ]
  },
  {
   "cell_type": "markdown",
   "metadata": {},
   "source": [
    "Looking at our data"
   ]
  },
  {
   "cell_type": "code",
   "execution_count": 168,
   "metadata": {},
   "outputs": [
    {
     "data": {
      "text/html": [
       "<div>\n",
       "<style scoped>\n",
       "    .dataframe tbody tr th:only-of-type {\n",
       "        vertical-align: middle;\n",
       "    }\n",
       "\n",
       "    .dataframe tbody tr th {\n",
       "        vertical-align: top;\n",
       "    }\n",
       "\n",
       "    .dataframe thead th {\n",
       "        text-align: right;\n",
       "    }\n",
       "</style>\n",
       "<table border=\"1\" class=\"dataframe\">\n",
       "  <thead>\n",
       "    <tr style=\"text-align: right;\">\n",
       "      <th></th>\n",
       "      <th>TAIL_NUM</th>\n",
       "      <th>ORIGIN_CITY_NAME</th>\n",
       "      <th>ARR_DELAY_NEW</th>\n",
       "      <th>DISTANCE</th>\n",
       "      <th>DATE_TIME</th>\n",
       "      <th>TIME_SECONDS</th>\n",
       "      <th>ARR_TIME_SECS</th>\n",
       "      <th>ds</th>\n",
       "    </tr>\n",
       "  </thead>\n",
       "  <tbody>\n",
       "    <tr>\n",
       "      <th>339550</th>\n",
       "      <td>N707SA</td>\n",
       "      <td>Chicago, IL</td>\n",
       "      <td>0.0</td>\n",
       "      <td>1521.0</td>\n",
       "      <td>2016-01-01 06:15:00</td>\n",
       "      <td>22500</td>\n",
       "      <td>30240.0</td>\n",
       "      <td>2016-01-01</td>\n",
       "    </tr>\n",
       "    <tr>\n",
       "      <th>339642</th>\n",
       "      <td>N8645A</td>\n",
       "      <td>Chicago, IL</td>\n",
       "      <td>0.0</td>\n",
       "      <td>997.0</td>\n",
       "      <td>2016-01-01 07:00:00</td>\n",
       "      <td>25200</td>\n",
       "      <td>39360.0</td>\n",
       "      <td>2016-01-01</td>\n",
       "    </tr>\n",
       "    <tr>\n",
       "      <th>339605</th>\n",
       "      <td>N8614M</td>\n",
       "      <td>Chicago, IL</td>\n",
       "      <td>0.0</td>\n",
       "      <td>1444.0</td>\n",
       "      <td>2016-01-01 07:25:00</td>\n",
       "      <td>26700</td>\n",
       "      <td>38400.0</td>\n",
       "      <td>2016-01-01</td>\n",
       "    </tr>\n",
       "    <tr>\n",
       "      <th>339573</th>\n",
       "      <td>N8318F</td>\n",
       "      <td>Chicago, IL</td>\n",
       "      <td>0.0</td>\n",
       "      <td>990.0</td>\n",
       "      <td>2016-01-01 07:30:00</td>\n",
       "      <td>27000</td>\n",
       "      <td>40560.0</td>\n",
       "      <td>2016-01-01</td>\n",
       "    </tr>\n",
       "    <tr>\n",
       "      <th>339512</th>\n",
       "      <td>N8631A</td>\n",
       "      <td>Chicago, IL</td>\n",
       "      <td>0.0</td>\n",
       "      <td>793.0</td>\n",
       "      <td>2016-01-01 07:45:00</td>\n",
       "      <td>27900</td>\n",
       "      <td>37440.0</td>\n",
       "      <td>2016-01-01</td>\n",
       "    </tr>\n",
       "  </tbody>\n",
       "</table>\n",
       "</div>"
      ],
      "text/plain": [
       "       TAIL_NUM ORIGIN_CITY_NAME  ARR_DELAY_NEW  DISTANCE           DATE_TIME  \\\n",
       "339550   N707SA      Chicago, IL            0.0    1521.0 2016-01-01 06:15:00   \n",
       "339642   N8645A      Chicago, IL            0.0     997.0 2016-01-01 07:00:00   \n",
       "339605   N8614M      Chicago, IL            0.0    1444.0 2016-01-01 07:25:00   \n",
       "339573   N8318F      Chicago, IL            0.0     990.0 2016-01-01 07:30:00   \n",
       "339512   N8631A      Chicago, IL            0.0     793.0 2016-01-01 07:45:00   \n",
       "\n",
       "        TIME_SECONDS  ARR_TIME_SECS          ds  \n",
       "339550         22500        30240.0  2016-01-01  \n",
       "339642         25200        39360.0  2016-01-01  \n",
       "339605         26700        38400.0  2016-01-01  \n",
       "339573         27000        40560.0  2016-01-01  \n",
       "339512         27900        37440.0  2016-01-01  "
      ]
     },
     "execution_count": 168,
     "metadata": {},
     "output_type": "execute_result"
    }
   ],
   "source": [
    "data_1_airline_1_aiport_prophet.head()"
   ]
  },
  {
   "cell_type": "code",
   "execution_count": 188,
   "metadata": {},
   "outputs": [],
   "source": [
    "max_aircraft = data_1_airline_1_aiport_prophet['TAIL_NUM'].value_counts().index.values[0]\n",
    "data_1_airline_1_aiport_prophet = data_1_airline_1_aiport_prophet[data_1_airline_1_aiport_prophet['TAIL_NUM'] == max_aircraft]"
   ]
  },
  {
   "cell_type": "markdown",
   "metadata": {},
   "source": [
    "Initialise prophet dataset"
   ]
  },
  {
   "cell_type": "markdown",
   "metadata": {},
   "source": [
    "Aggregating delays by day"
   ]
  },
  {
   "cell_type": "code",
   "execution_count": 189,
   "metadata": {},
   "outputs": [
    {
     "data": {
      "text/html": [
       "<div>\n",
       "<style scoped>\n",
       "    .dataframe tbody tr th:only-of-type {\n",
       "        vertical-align: middle;\n",
       "    }\n",
       "\n",
       "    .dataframe tbody tr th {\n",
       "        vertical-align: top;\n",
       "    }\n",
       "\n",
       "    .dataframe thead th {\n",
       "        text-align: right;\n",
       "    }\n",
       "</style>\n",
       "<table border=\"1\" class=\"dataframe\">\n",
       "  <thead>\n",
       "    <tr style=\"text-align: right;\">\n",
       "      <th></th>\n",
       "      <th>ds</th>\n",
       "      <th>y</th>\n",
       "    </tr>\n",
       "  </thead>\n",
       "  <tbody>\n",
       "    <tr>\n",
       "      <th>0</th>\n",
       "      <td>2016-01-20</td>\n",
       "      <td>0.0</td>\n",
       "    </tr>\n",
       "    <tr>\n",
       "      <th>1</th>\n",
       "      <td>2016-01-24</td>\n",
       "      <td>0.0</td>\n",
       "    </tr>\n",
       "    <tr>\n",
       "      <th>2</th>\n",
       "      <td>2016-01-25</td>\n",
       "      <td>0.0</td>\n",
       "    </tr>\n",
       "    <tr>\n",
       "      <th>3</th>\n",
       "      <td>2016-01-26</td>\n",
       "      <td>2.0</td>\n",
       "    </tr>\n",
       "    <tr>\n",
       "      <th>4</th>\n",
       "      <td>2016-01-27</td>\n",
       "      <td>0.0</td>\n",
       "    </tr>\n",
       "  </tbody>\n",
       "</table>\n",
       "</div>"
      ],
      "text/plain": [
       "           ds    y\n",
       "0  2016-01-20  0.0\n",
       "1  2016-01-24  0.0\n",
       "2  2016-01-25  0.0\n",
       "3  2016-01-26  2.0\n",
       "4  2016-01-27  0.0"
      ]
     },
     "execution_count": 189,
     "metadata": {},
     "output_type": "execute_result"
    }
   ],
   "source": [
    "data_mean = pd.DataFrame(columns=['ds', 'y'])\n",
    "data_mean.loc[:, 'ds'] = data_1_airline_1_aiport_prophet.loc[:, 'ds'].unique()\n",
    "data_mean.loc[:, 'y'] = data_1_airline_1_aiport_prophet.loc[:, 'ARR_DELAY_NEW'].groupby(data_1_airline_1_aiport_prophet.loc[:, 'ds']).apply(lambda x : x.mean()).values\n",
    "data_mean.head()"
   ]
  },
  {
   "cell_type": "markdown",
   "metadata": {},
   "source": [
    "Standardise target"
   ]
  },
  {
   "cell_type": "code",
   "execution_count": 190,
   "metadata": {},
   "outputs": [],
   "source": [
    "data_mean.loc[:, 'y_ori'] = data_mean.loc[:, 'y']\n",
    "std_scale = preprocessing.StandardScaler().fit(data_mean.loc[:, 'y'].values.reshape(-1, 1))\n",
    "data_mean.loc[:, 'y'] = std_scale.transform(data_mean.loc[:, 'y'].values.reshape(-1, 1))"
   ]
  },
  {
   "cell_type": "markdown",
   "metadata": {},
   "source": [
    "Train and Test datasets"
   ]
  },
  {
   "cell_type": "code",
   "execution_count": 191,
   "metadata": {},
   "outputs": [],
   "source": [
    "test_size = 0.3\n",
    "n_train_mean = math.floor(data_mean.shape[0] * (1 - test_size))\n",
    "\n",
    "df_train_mean = data_mean.iloc[:n_train_mean, :]\n",
    "df_test_mean = data_mean.iloc[n_train_mean:, :]"
   ]
  },
  {
   "cell_type": "markdown",
   "metadata": {},
   "source": [
    "Prophet model"
   ]
  },
  {
   "cell_type": "code",
   "execution_count": 192,
   "metadata": {},
   "outputs": [
    {
     "name": "stderr",
     "output_type": "stream",
     "text": [
      "INFO:fbprophet.forecaster:Disabling yearly seasonality. Run prophet with yearly_seasonality=True to override this.\n",
      "INFO:fbprophet.forecaster:Disabling daily seasonality. Run prophet with daily_seasonality=True to override this.\n",
      "C:\\Users\\simon\\Anaconda3\\lib\\site-packages\\pystan\\misc.py:399: FutureWarning: Conversion of the second argument of issubdtype from `float` to `np.floating` is deprecated. In future, it will be treated as `np.float64 == np.dtype(float).type`.\n",
      "  elif np.issubdtype(np.asarray(v).dtype, float):\n"
     ]
    }
   ],
   "source": [
    "prophet_model = Prophet() #instantiate Prophet\n",
    "prophet_model.fit(df_train_mean); #fit the model with your dataframe"
   ]
  },
  {
   "cell_type": "markdown",
   "metadata": {},
   "source": [
    "Prophet future (testing) data to predict over"
   ]
  },
  {
   "cell_type": "code",
   "execution_count": 193,
   "metadata": {},
   "outputs": [
    {
     "name": "stdout",
     "output_type": "stream",
     "text": [
      "First day : datetime.date(2016, 9, 8), Last day : datetime.date(2016, 12, 28), Number of testing days : 112\n"
     ]
    }
   ],
   "source": [
    "first_test_day = df_test_mean.loc[:,'ds'].iloc[0]\n",
    "last_test_day = df_test_mean.loc[:,'ds'].iloc[-1]\n",
    "delta_days_test = last_test_day - first_test_day\n",
    "print(\"First day : %r, Last day : %r, Number of testing days : %i\" % (first_test_day, last_test_day, delta_days_test.days + 1))\n",
    "date_list_test = [first_test_day + datetime.timedelta(days=x) for x in range(0, delta_days_test.days + 1)]\n",
    "future_data = pd.DataFrame(data=date_list_test, columns=['ds'])"
   ]
  },
  {
   "cell_type": "markdown",
   "metadata": {},
   "source": [
    "Prophet past (training) data to predict over"
   ]
  },
  {
   "cell_type": "code",
   "execution_count": 194,
   "metadata": {},
   "outputs": [
    {
     "name": "stdout",
     "output_type": "stream",
     "text": [
      "First day : datetime.date(2016, 1, 20), Last day : datetime.date(2016, 9, 7), Number of training days : 231\n"
     ]
    }
   ],
   "source": [
    "first_train_day = df_train_mean.loc[:,'ds'].iloc[0]\n",
    "last_train_day = df_train_mean.loc[:,'ds'].iloc[-1]\n",
    "delta_days_train = last_train_day - first_train_day\n",
    "print(\"First day : %r, Last day : %r, Number of training days : %i\" % (first_train_day, last_train_day, delta_days_train.days))\n",
    "date_list_train = [first_train_day + datetime.timedelta(days=x) for x in range(0, delta_days_train.days)]\n",
    "past_data = pd.DataFrame(data=date_list_train, columns=['ds'])"
   ]
  },
  {
   "cell_type": "markdown",
   "metadata": {},
   "source": [
    "Prophet forecast"
   ]
  },
  {
   "cell_type": "code",
   "execution_count": 195,
   "metadata": {},
   "outputs": [
    {
     "data": {
      "text/html": [
       "<div>\n",
       "<style scoped>\n",
       "    .dataframe tbody tr th:only-of-type {\n",
       "        vertical-align: middle;\n",
       "    }\n",
       "\n",
       "    .dataframe tbody tr th {\n",
       "        vertical-align: top;\n",
       "    }\n",
       "\n",
       "    .dataframe thead th {\n",
       "        text-align: right;\n",
       "    }\n",
       "</style>\n",
       "<table border=\"1\" class=\"dataframe\">\n",
       "  <thead>\n",
       "    <tr style=\"text-align: right;\">\n",
       "      <th></th>\n",
       "      <th>ds</th>\n",
       "      <th>trend</th>\n",
       "      <th>yhat_lower</th>\n",
       "      <th>yhat_upper</th>\n",
       "      <th>trend_lower</th>\n",
       "      <th>trend_upper</th>\n",
       "      <th>additive_terms</th>\n",
       "      <th>additive_terms_lower</th>\n",
       "      <th>additive_terms_upper</th>\n",
       "      <th>weekly</th>\n",
       "      <th>weekly_lower</th>\n",
       "      <th>weekly_upper</th>\n",
       "      <th>multiplicative_terms</th>\n",
       "      <th>multiplicative_terms_lower</th>\n",
       "      <th>multiplicative_terms_upper</th>\n",
       "      <th>yhat</th>\n",
       "    </tr>\n",
       "  </thead>\n",
       "  <tbody>\n",
       "    <tr>\n",
       "      <th>0</th>\n",
       "      <td>2016-09-08</td>\n",
       "      <td>0.139028</td>\n",
       "      <td>-1.177910</td>\n",
       "      <td>1.231490</td>\n",
       "      <td>0.139028</td>\n",
       "      <td>0.139028</td>\n",
       "      <td>-0.178241</td>\n",
       "      <td>-0.178241</td>\n",
       "      <td>-0.178241</td>\n",
       "      <td>-0.178241</td>\n",
       "      <td>-0.178241</td>\n",
       "      <td>-0.178241</td>\n",
       "      <td>0.0</td>\n",
       "      <td>0.0</td>\n",
       "      <td>0.0</td>\n",
       "      <td>-0.039213</td>\n",
       "    </tr>\n",
       "    <tr>\n",
       "      <th>1</th>\n",
       "      <td>2016-09-09</td>\n",
       "      <td>0.139781</td>\n",
       "      <td>-1.208161</td>\n",
       "      <td>1.258389</td>\n",
       "      <td>0.139781</td>\n",
       "      <td>0.139781</td>\n",
       "      <td>-0.101532</td>\n",
       "      <td>-0.101532</td>\n",
       "      <td>-0.101532</td>\n",
       "      <td>-0.101532</td>\n",
       "      <td>-0.101532</td>\n",
       "      <td>-0.101532</td>\n",
       "      <td>0.0</td>\n",
       "      <td>0.0</td>\n",
       "      <td>0.0</td>\n",
       "      <td>0.038249</td>\n",
       "    </tr>\n",
       "    <tr>\n",
       "      <th>2</th>\n",
       "      <td>2016-09-10</td>\n",
       "      <td>0.140533</td>\n",
       "      <td>-0.958504</td>\n",
       "      <td>1.450355</td>\n",
       "      <td>0.140533</td>\n",
       "      <td>0.140533</td>\n",
       "      <td>0.071276</td>\n",
       "      <td>0.071276</td>\n",
       "      <td>0.071276</td>\n",
       "      <td>0.071276</td>\n",
       "      <td>0.071276</td>\n",
       "      <td>0.071276</td>\n",
       "      <td>0.0</td>\n",
       "      <td>0.0</td>\n",
       "      <td>0.0</td>\n",
       "      <td>0.211810</td>\n",
       "    </tr>\n",
       "    <tr>\n",
       "      <th>3</th>\n",
       "      <td>2016-09-11</td>\n",
       "      <td>0.141286</td>\n",
       "      <td>-1.099904</td>\n",
       "      <td>1.483127</td>\n",
       "      <td>0.141286</td>\n",
       "      <td>0.141286</td>\n",
       "      <td>0.056894</td>\n",
       "      <td>0.056894</td>\n",
       "      <td>0.056894</td>\n",
       "      <td>0.056894</td>\n",
       "      <td>0.056894</td>\n",
       "      <td>0.056894</td>\n",
       "      <td>0.0</td>\n",
       "      <td>0.0</td>\n",
       "      <td>0.0</td>\n",
       "      <td>0.198180</td>\n",
       "    </tr>\n",
       "    <tr>\n",
       "      <th>4</th>\n",
       "      <td>2016-09-12</td>\n",
       "      <td>0.142038</td>\n",
       "      <td>-1.407673</td>\n",
       "      <td>1.170467</td>\n",
       "      <td>0.142038</td>\n",
       "      <td>0.142038</td>\n",
       "      <td>-0.327769</td>\n",
       "      <td>-0.327769</td>\n",
       "      <td>-0.327769</td>\n",
       "      <td>-0.327769</td>\n",
       "      <td>-0.327769</td>\n",
       "      <td>-0.327769</td>\n",
       "      <td>0.0</td>\n",
       "      <td>0.0</td>\n",
       "      <td>0.0</td>\n",
       "      <td>-0.185730</td>\n",
       "    </tr>\n",
       "  </tbody>\n",
       "</table>\n",
       "</div>"
      ],
      "text/plain": [
       "          ds     trend  yhat_lower  yhat_upper  trend_lower  trend_upper  \\\n",
       "0 2016-09-08  0.139028   -1.177910    1.231490     0.139028     0.139028   \n",
       "1 2016-09-09  0.139781   -1.208161    1.258389     0.139781     0.139781   \n",
       "2 2016-09-10  0.140533   -0.958504    1.450355     0.140533     0.140533   \n",
       "3 2016-09-11  0.141286   -1.099904    1.483127     0.141286     0.141286   \n",
       "4 2016-09-12  0.142038   -1.407673    1.170467     0.142038     0.142038   \n",
       "\n",
       "   additive_terms  additive_terms_lower  additive_terms_upper    weekly  \\\n",
       "0       -0.178241             -0.178241             -0.178241 -0.178241   \n",
       "1       -0.101532             -0.101532             -0.101532 -0.101532   \n",
       "2        0.071276              0.071276              0.071276  0.071276   \n",
       "3        0.056894              0.056894              0.056894  0.056894   \n",
       "4       -0.327769             -0.327769             -0.327769 -0.327769   \n",
       "\n",
       "   weekly_lower  weekly_upper  multiplicative_terms  \\\n",
       "0     -0.178241     -0.178241                   0.0   \n",
       "1     -0.101532     -0.101532                   0.0   \n",
       "2      0.071276      0.071276                   0.0   \n",
       "3      0.056894      0.056894                   0.0   \n",
       "4     -0.327769     -0.327769                   0.0   \n",
       "\n",
       "   multiplicative_terms_lower  multiplicative_terms_upper      yhat  \n",
       "0                         0.0                         0.0 -0.039213  \n",
       "1                         0.0                         0.0  0.038249  \n",
       "2                         0.0                         0.0  0.211810  \n",
       "3                         0.0                         0.0  0.198180  \n",
       "4                         0.0                         0.0 -0.185730  "
      ]
     },
     "execution_count": 195,
     "metadata": {},
     "output_type": "execute_result"
    }
   ],
   "source": [
    "forecast_data = prophet_model.predict(future_data)\n",
    "forecast_data.head()"
   ]
  },
  {
   "cell_type": "code",
   "execution_count": 196,
   "metadata": {},
   "outputs": [
    {
     "data": {
      "text/html": [
       "<div>\n",
       "<style scoped>\n",
       "    .dataframe tbody tr th:only-of-type {\n",
       "        vertical-align: middle;\n",
       "    }\n",
       "\n",
       "    .dataframe tbody tr th {\n",
       "        vertical-align: top;\n",
       "    }\n",
       "\n",
       "    .dataframe thead th {\n",
       "        text-align: right;\n",
       "    }\n",
       "</style>\n",
       "<table border=\"1\" class=\"dataframe\">\n",
       "  <thead>\n",
       "    <tr style=\"text-align: right;\">\n",
       "      <th></th>\n",
       "      <th>ds</th>\n",
       "      <th>yhat</th>\n",
       "      <th>yhat_lower</th>\n",
       "      <th>yhat_upper</th>\n",
       "    </tr>\n",
       "  </thead>\n",
       "  <tbody>\n",
       "    <tr>\n",
       "      <th>0</th>\n",
       "      <td>2016-09-08</td>\n",
       "      <td>-0.039213</td>\n",
       "      <td>-1.177910</td>\n",
       "      <td>1.231490</td>\n",
       "    </tr>\n",
       "    <tr>\n",
       "      <th>1</th>\n",
       "      <td>2016-09-09</td>\n",
       "      <td>0.038249</td>\n",
       "      <td>-1.208161</td>\n",
       "      <td>1.258389</td>\n",
       "    </tr>\n",
       "    <tr>\n",
       "      <th>2</th>\n",
       "      <td>2016-09-10</td>\n",
       "      <td>0.211810</td>\n",
       "      <td>-0.958504</td>\n",
       "      <td>1.450355</td>\n",
       "    </tr>\n",
       "    <tr>\n",
       "      <th>3</th>\n",
       "      <td>2016-09-11</td>\n",
       "      <td>0.198180</td>\n",
       "      <td>-1.099904</td>\n",
       "      <td>1.483127</td>\n",
       "    </tr>\n",
       "    <tr>\n",
       "      <th>4</th>\n",
       "      <td>2016-09-12</td>\n",
       "      <td>-0.185730</td>\n",
       "      <td>-1.407673</td>\n",
       "      <td>1.170467</td>\n",
       "    </tr>\n",
       "  </tbody>\n",
       "</table>\n",
       "</div>"
      ],
      "text/plain": [
       "          ds      yhat  yhat_lower  yhat_upper\n",
       "0 2016-09-08 -0.039213   -1.177910    1.231490\n",
       "1 2016-09-09  0.038249   -1.208161    1.258389\n",
       "2 2016-09-10  0.211810   -0.958504    1.450355\n",
       "3 2016-09-11  0.198180   -1.099904    1.483127\n",
       "4 2016-09-12 -0.185730   -1.407673    1.170467"
      ]
     },
     "execution_count": 196,
     "metadata": {},
     "output_type": "execute_result"
    }
   ],
   "source": [
    "forecast_data[['ds', 'yhat', 'yhat_lower', 'yhat_upper']].head()"
   ]
  },
  {
   "cell_type": "markdown",
   "metadata": {},
   "source": [
    "Plotting results"
   ]
  },
  {
   "cell_type": "code",
   "execution_count": 197,
   "metadata": {},
   "outputs": [
    {
     "data": {
      "image/png": "[encoded data removed]",
      "text/plain": [
       "<Figure size 720x432 with 1 Axes>"
      ]
     },
     "metadata": {},
     "output_type": "display_data"
    }
   ],
   "source": [
    "prophet_model.plot(forecast_data);"
   ]
  },
  {
   "cell_type": "code",
   "execution_count": 198,
   "metadata": {},
   "outputs": [
    {
     "data": {
      "image/png": "[encoded data removed]",
      "text/plain": [
       "<Figure size 648x432 with 2 Axes>"
      ]
     },
     "metadata": {},
     "output_type": "display_data"
    }
   ],
   "source": [
    "prophet_model.plot_components(forecast_data);"
   ]
  },
  {
   "cell_type": "markdown",
   "metadata": {},
   "source": [
    "Scaling back results to compare to reality"
   ]
  },
  {
   "cell_type": "code",
   "execution_count": 199,
   "metadata": {},
   "outputs": [],
   "source": [
    "forecast_data['y_or'] = std_scale.inverse_transform(forecast_data['yhat'])\n",
    "forecast_data['y_l_or'] = std_scale.inverse_transform(forecast_data['yhat_lower'])\n",
    "forecast_data['y_h_or'] = std_scale.inverse_transform(forecast_data['yhat_upper'])"
   ]
  },
  {
   "cell_type": "code",
   "execution_count": 200,
   "metadata": {},
   "outputs": [
    {
     "ename": "ValueError",
     "evalue": "x and y must have same first dimension, but have shapes (112,) and (49,)",
     "output_type": "error",
     "traceback": [
      "\u001b[1;31m---------------------------------------------------------------------------\u001b[0m",
      "\u001b[1;31mValueError\u001b[0m                                Traceback (most recent call last)",
      "\u001b[1;32m<ipython-input-200-c47787b5484b>\u001b[0m in \u001b[0;36m<module>\u001b[1;34m()\u001b[0m\n\u001b[0;32m      3\u001b[0m \u001b[0mplt\u001b[0m\u001b[1;33m.\u001b[0m\u001b[0mplot\u001b[0m\u001b[1;33m(\u001b[0m\u001b[0mforecast_data\u001b[0m\u001b[1;33m[\u001b[0m\u001b[1;34m'ds'\u001b[0m\u001b[1;33m]\u001b[0m\u001b[1;33m,\u001b[0m \u001b[0mforecast_data\u001b[0m\u001b[1;33m[\u001b[0m\u001b[1;34m'y_l_or'\u001b[0m\u001b[1;33m]\u001b[0m\u001b[1;33m,\u001b[0m \u001b[1;34m'b--'\u001b[0m\u001b[1;33m)\u001b[0m\u001b[1;33m\u001b[0m\u001b[0m\n\u001b[0;32m      4\u001b[0m \u001b[0mplt\u001b[0m\u001b[1;33m.\u001b[0m\u001b[0mplot\u001b[0m\u001b[1;33m(\u001b[0m\u001b[0mforecast_data\u001b[0m\u001b[1;33m[\u001b[0m\u001b[1;34m'ds'\u001b[0m\u001b[1;33m]\u001b[0m\u001b[1;33m,\u001b[0m \u001b[0mforecast_data\u001b[0m\u001b[1;33m[\u001b[0m\u001b[1;34m'y_h_or'\u001b[0m\u001b[1;33m]\u001b[0m\u001b[1;33m,\u001b[0m \u001b[1;34m'b--'\u001b[0m\u001b[1;33m)\u001b[0m\u001b[1;33m\u001b[0m\u001b[0m\n\u001b[1;32m----> 5\u001b[1;33m \u001b[0mplt\u001b[0m\u001b[1;33m.\u001b[0m\u001b[0mplot\u001b[0m\u001b[1;33m(\u001b[0m\u001b[0mforecast_data\u001b[0m\u001b[1;33m[\u001b[0m\u001b[1;34m'ds'\u001b[0m\u001b[1;33m]\u001b[0m\u001b[1;33m,\u001b[0m \u001b[0mdf_test_mean\u001b[0m\u001b[1;33m[\u001b[0m\u001b[1;34m'y_ori'\u001b[0m\u001b[1;33m]\u001b[0m\u001b[1;33m)\u001b[0m\u001b[1;33m\u001b[0m\u001b[0m\n\u001b[0m\u001b[0;32m      6\u001b[0m \u001b[0max\u001b[0m\u001b[1;33m.\u001b[0m\u001b[0mset_xlabel\u001b[0m\u001b[1;33m(\u001b[0m\u001b[1;34m\"Testing Days\"\u001b[0m\u001b[1;33m)\u001b[0m\u001b[1;33m\u001b[0m\u001b[0m\n\u001b[0;32m      7\u001b[0m \u001b[0max\u001b[0m\u001b[1;33m.\u001b[0m\u001b[0mset_ylabel\u001b[0m\u001b[1;33m(\u001b[0m\u001b[1;34m\"Daily mean delay\"\u001b[0m\u001b[1;33m)\u001b[0m\u001b[1;33m;\u001b[0m\u001b[1;33m\u001b[0m\u001b[0m\n",
      "\u001b[1;32m~\\Anaconda3\\lib\\site-packages\\matplotlib\\pyplot.py\u001b[0m in \u001b[0;36mplot\u001b[1;34m(*args, **kwargs)\u001b[0m\n\u001b[0;32m   3356\u001b[0m                       mplDeprecation)\n\u001b[0;32m   3357\u001b[0m     \u001b[1;32mtry\u001b[0m\u001b[1;33m:\u001b[0m\u001b[1;33m\u001b[0m\u001b[0m\n\u001b[1;32m-> 3358\u001b[1;33m         \u001b[0mret\u001b[0m \u001b[1;33m=\u001b[0m \u001b[0max\u001b[0m\u001b[1;33m.\u001b[0m\u001b[0mplot\u001b[0m\u001b[1;33m(\u001b[0m\u001b[1;33m*\u001b[0m\u001b[0margs\u001b[0m\u001b[1;33m,\u001b[0m \u001b[1;33m**\u001b[0m\u001b[0mkwargs\u001b[0m\u001b[1;33m)\u001b[0m\u001b[1;33m\u001b[0m\u001b[0m\n\u001b[0m\u001b[0;32m   3359\u001b[0m     \u001b[1;32mfinally\u001b[0m\u001b[1;33m:\u001b[0m\u001b[1;33m\u001b[0m\u001b[0m\n\u001b[0;32m   3360\u001b[0m         \u001b[0max\u001b[0m\u001b[1;33m.\u001b[0m\u001b[0m_hold\u001b[0m \u001b[1;33m=\u001b[0m \u001b[0mwashold\u001b[0m\u001b[1;33m\u001b[0m\u001b[0m\n",
      "\u001b[1;32m~\\Anaconda3\\lib\\site-packages\\matplotlib\\__init__.py\u001b[0m in \u001b[0;36minner\u001b[1;34m(ax, *args, **kwargs)\u001b[0m\n\u001b[0;32m   1853\u001b[0m                         \u001b[1;34m\"the Matplotlib list!)\"\u001b[0m \u001b[1;33m%\u001b[0m \u001b[1;33m(\u001b[0m\u001b[0mlabel_namer\u001b[0m\u001b[1;33m,\u001b[0m \u001b[0mfunc\u001b[0m\u001b[1;33m.\u001b[0m\u001b[0m__name__\u001b[0m\u001b[1;33m)\u001b[0m\u001b[1;33m,\u001b[0m\u001b[1;33m\u001b[0m\u001b[0m\n\u001b[0;32m   1854\u001b[0m                         RuntimeWarning, stacklevel=2)\n\u001b[1;32m-> 1855\u001b[1;33m             \u001b[1;32mreturn\u001b[0m \u001b[0mfunc\u001b[0m\u001b[1;33m(\u001b[0m\u001b[0max\u001b[0m\u001b[1;33m,\u001b[0m \u001b[1;33m*\u001b[0m\u001b[0margs\u001b[0m\u001b[1;33m,\u001b[0m \u001b[1;33m**\u001b[0m\u001b[0mkwargs\u001b[0m\u001b[1;33m)\u001b[0m\u001b[1;33m\u001b[0m\u001b[0m\n\u001b[0m\u001b[0;32m   1856\u001b[0m \u001b[1;33m\u001b[0m\u001b[0m\n\u001b[0;32m   1857\u001b[0m         inner.__doc__ = _add_data_doc(inner.__doc__,\n",
      "\u001b[1;32m~\\Anaconda3\\lib\\site-packages\\matplotlib\\axes\\_axes.py\u001b[0m in \u001b[0;36mplot\u001b[1;34m(self, *args, **kwargs)\u001b[0m\n\u001b[0;32m   1525\u001b[0m         \u001b[0mkwargs\u001b[0m \u001b[1;33m=\u001b[0m \u001b[0mcbook\u001b[0m\u001b[1;33m.\u001b[0m\u001b[0mnormalize_kwargs\u001b[0m\u001b[1;33m(\u001b[0m\u001b[0mkwargs\u001b[0m\u001b[1;33m,\u001b[0m \u001b[0m_alias_map\u001b[0m\u001b[1;33m)\u001b[0m\u001b[1;33m\u001b[0m\u001b[0m\n\u001b[0;32m   1526\u001b[0m \u001b[1;33m\u001b[0m\u001b[0m\n\u001b[1;32m-> 1527\u001b[1;33m         \u001b[1;32mfor\u001b[0m \u001b[0mline\u001b[0m \u001b[1;32min\u001b[0m \u001b[0mself\u001b[0m\u001b[1;33m.\u001b[0m\u001b[0m_get_lines\u001b[0m\u001b[1;33m(\u001b[0m\u001b[1;33m*\u001b[0m\u001b[0margs\u001b[0m\u001b[1;33m,\u001b[0m \u001b[1;33m**\u001b[0m\u001b[0mkwargs\u001b[0m\u001b[1;33m)\u001b[0m\u001b[1;33m:\u001b[0m\u001b[1;33m\u001b[0m\u001b[0m\n\u001b[0m\u001b[0;32m   1528\u001b[0m             \u001b[0mself\u001b[0m\u001b[1;33m.\u001b[0m\u001b[0madd_line\u001b[0m\u001b[1;33m(\u001b[0m\u001b[0mline\u001b[0m\u001b[1;33m)\u001b[0m\u001b[1;33m\u001b[0m\u001b[0m\n\u001b[0;32m   1529\u001b[0m             \u001b[0mlines\u001b[0m\u001b[1;33m.\u001b[0m\u001b[0mappend\u001b[0m\u001b[1;33m(\u001b[0m\u001b[0mline\u001b[0m\u001b[1;33m)\u001b[0m\u001b[1;33m\u001b[0m\u001b[0m\n",
      "\u001b[1;32m~\\Anaconda3\\lib\\site-packages\\matplotlib\\axes\\_base.py\u001b[0m in \u001b[0;36m_grab_next_args\u001b[1;34m(self, *args, **kwargs)\u001b[0m\n\u001b[0;32m    404\u001b[0m                 \u001b[0mthis\u001b[0m \u001b[1;33m+=\u001b[0m \u001b[0margs\u001b[0m\u001b[1;33m[\u001b[0m\u001b[1;36m0\u001b[0m\u001b[1;33m]\u001b[0m\u001b[1;33m,\u001b[0m\u001b[1;33m\u001b[0m\u001b[0m\n\u001b[0;32m    405\u001b[0m                 \u001b[0margs\u001b[0m \u001b[1;33m=\u001b[0m \u001b[0margs\u001b[0m\u001b[1;33m[\u001b[0m\u001b[1;36m1\u001b[0m\u001b[1;33m:\u001b[0m\u001b[1;33m]\u001b[0m\u001b[1;33m\u001b[0m\u001b[0m\n\u001b[1;32m--> 406\u001b[1;33m             \u001b[1;32mfor\u001b[0m \u001b[0mseg\u001b[0m \u001b[1;32min\u001b[0m \u001b[0mself\u001b[0m\u001b[1;33m.\u001b[0m\u001b[0m_plot_args\u001b[0m\u001b[1;33m(\u001b[0m\u001b[0mthis\u001b[0m\u001b[1;33m,\u001b[0m \u001b[0mkwargs\u001b[0m\u001b[1;33m)\u001b[0m\u001b[1;33m:\u001b[0m\u001b[1;33m\u001b[0m\u001b[0m\n\u001b[0m\u001b[0;32m    407\u001b[0m                 \u001b[1;32myield\u001b[0m \u001b[0mseg\u001b[0m\u001b[1;33m\u001b[0m\u001b[0m\n\u001b[0;32m    408\u001b[0m \u001b[1;33m\u001b[0m\u001b[0m\n",
      "\u001b[1;32m~\\Anaconda3\\lib\\site-packages\\matplotlib\\axes\\_base.py\u001b[0m in \u001b[0;36m_plot_args\u001b[1;34m(self, tup, kwargs)\u001b[0m\n\u001b[0;32m    381\u001b[0m             \u001b[0mx\u001b[0m\u001b[1;33m,\u001b[0m \u001b[0my\u001b[0m \u001b[1;33m=\u001b[0m \u001b[0mindex_of\u001b[0m\u001b[1;33m(\u001b[0m\u001b[0mtup\u001b[0m\u001b[1;33m[\u001b[0m\u001b[1;33m-\u001b[0m\u001b[1;36m1\u001b[0m\u001b[1;33m]\u001b[0m\u001b[1;33m)\u001b[0m\u001b[1;33m\u001b[0m\u001b[0m\n\u001b[0;32m    382\u001b[0m \u001b[1;33m\u001b[0m\u001b[0m\n\u001b[1;32m--> 383\u001b[1;33m         \u001b[0mx\u001b[0m\u001b[1;33m,\u001b[0m \u001b[0my\u001b[0m \u001b[1;33m=\u001b[0m \u001b[0mself\u001b[0m\u001b[1;33m.\u001b[0m\u001b[0m_xy_from_xy\u001b[0m\u001b[1;33m(\u001b[0m\u001b[0mx\u001b[0m\u001b[1;33m,\u001b[0m \u001b[0my\u001b[0m\u001b[1;33m)\u001b[0m\u001b[1;33m\u001b[0m\u001b[0m\n\u001b[0m\u001b[0;32m    384\u001b[0m \u001b[1;33m\u001b[0m\u001b[0m\n\u001b[0;32m    385\u001b[0m         \u001b[1;32mif\u001b[0m \u001b[0mself\u001b[0m\u001b[1;33m.\u001b[0m\u001b[0mcommand\u001b[0m \u001b[1;33m==\u001b[0m \u001b[1;34m'plot'\u001b[0m\u001b[1;33m:\u001b[0m\u001b[1;33m\u001b[0m\u001b[0m\n",
      "\u001b[1;32m~\\Anaconda3\\lib\\site-packages\\matplotlib\\axes\\_base.py\u001b[0m in \u001b[0;36m_xy_from_xy\u001b[1;34m(self, x, y)\u001b[0m\n\u001b[0;32m    240\u001b[0m         \u001b[1;32mif\u001b[0m \u001b[0mx\u001b[0m\u001b[1;33m.\u001b[0m\u001b[0mshape\u001b[0m\u001b[1;33m[\u001b[0m\u001b[1;36m0\u001b[0m\u001b[1;33m]\u001b[0m \u001b[1;33m!=\u001b[0m \u001b[0my\u001b[0m\u001b[1;33m.\u001b[0m\u001b[0mshape\u001b[0m\u001b[1;33m[\u001b[0m\u001b[1;36m0\u001b[0m\u001b[1;33m]\u001b[0m\u001b[1;33m:\u001b[0m\u001b[1;33m\u001b[0m\u001b[0m\n\u001b[0;32m    241\u001b[0m             raise ValueError(\"x and y must have same first dimension, but \"\n\u001b[1;32m--> 242\u001b[1;33m                              \"have shapes {} and {}\".format(x.shape, y.shape))\n\u001b[0m\u001b[0;32m    243\u001b[0m         \u001b[1;32mif\u001b[0m \u001b[0mx\u001b[0m\u001b[1;33m.\u001b[0m\u001b[0mndim\u001b[0m \u001b[1;33m>\u001b[0m \u001b[1;36m2\u001b[0m \u001b[1;32mor\u001b[0m \u001b[0my\u001b[0m\u001b[1;33m.\u001b[0m\u001b[0mndim\u001b[0m \u001b[1;33m>\u001b[0m \u001b[1;36m2\u001b[0m\u001b[1;33m:\u001b[0m\u001b[1;33m\u001b[0m\u001b[0m\n\u001b[0;32m    244\u001b[0m             raise ValueError(\"x and y can be no greater than 2-D, but have \"\n",
      "\u001b[1;31mValueError\u001b[0m: x and y must have same first dimension, but have shapes (112,) and (49,)"
     ]
    },
    {
     "data": {
      "image/png": "[encoded data removed]",
      "text/plain": [
       "<Figure size 1440x360 with 1 Axes>"
      ]
     },
     "metadata": {},
     "output_type": "display_data"
    }
   ],
   "source": [
    "fig, ax = plt.subplots(figsize=(20,5))\n",
    "plt.plot(forecast_data['ds'], forecast_data['y_or'])\n",
    "plt.plot(forecast_data['ds'], forecast_data['y_l_or'], 'b--')\n",
    "plt.plot(forecast_data['ds'], forecast_data['y_h_or'], 'b--')\n",
    "plt.plot(forecast_data['ds'], df_test_mean['y_ori'])\n",
    "ax.set_xlabel(\"Testing Days\")\n",
    "ax.set_ylabel(\"Daily mean delay\");"
   ]
  },
  {
   "cell_type": "code",
   "execution_count": null,
   "metadata": {},
   "outputs": [],
   "source": [
    "rmse_test = math.sqrt(metrics.mean_squared_error(df_test_mean['y_ori'].values, forecast_data['y_or'].values))\n",
    "mae_test = metrics.mean_absolute_error(df_test_mean['y_ori'].values, forecast_data['y_or'].values)\n",
    "print(\"RMSE on testing dataset : %.2f\" % rmse_test)\n",
    "print(\"MAE on testing dataset : %.2f\" % mae_test)"
   ]
  },
  {
   "cell_type": "code",
   "execution_count": 201,
   "metadata": {},
   "outputs": [
    {
     "ename": "ValueError",
     "evalue": "Found input variables with inconsistent numbers of samples: [112, 231]",
     "output_type": "error",
     "traceback": [
      "\u001b[1;31m---------------------------------------------------------------------------\u001b[0m",
      "\u001b[1;31mValueError\u001b[0m                                Traceback (most recent call last)",
      "\u001b[1;32m<ipython-input-201-41ee5a05b8d4>\u001b[0m in \u001b[0;36m<module>\u001b[1;34m()\u001b[0m\n\u001b[0;32m      1\u001b[0m \u001b[0mtrain_predict\u001b[0m \u001b[1;33m=\u001b[0m \u001b[0mstd_scale\u001b[0m\u001b[1;33m.\u001b[0m\u001b[0minverse_transform\u001b[0m\u001b[1;33m(\u001b[0m\u001b[0mprophet_model\u001b[0m\u001b[1;33m.\u001b[0m\u001b[0mpredict\u001b[0m\u001b[1;33m(\u001b[0m\u001b[0mpast_data\u001b[0m\u001b[1;33m)\u001b[0m\u001b[1;33m[\u001b[0m\u001b[1;34m'yhat'\u001b[0m\u001b[1;33m]\u001b[0m\u001b[1;33m)\u001b[0m\u001b[1;33m\u001b[0m\u001b[0m\n\u001b[1;32m----> 2\u001b[1;33m \u001b[0mrmse_train\u001b[0m \u001b[1;33m=\u001b[0m \u001b[0mmath\u001b[0m\u001b[1;33m.\u001b[0m\u001b[0msqrt\u001b[0m\u001b[1;33m(\u001b[0m\u001b[0mmetrics\u001b[0m\u001b[1;33m.\u001b[0m\u001b[0mmean_squared_error\u001b[0m\u001b[1;33m(\u001b[0m\u001b[0mdf_train_mean\u001b[0m\u001b[1;33m[\u001b[0m\u001b[1;34m'y'\u001b[0m\u001b[1;33m]\u001b[0m\u001b[1;33m.\u001b[0m\u001b[0mvalues\u001b[0m\u001b[1;33m,\u001b[0m \u001b[0mtrain_predict\u001b[0m\u001b[1;33m)\u001b[0m\u001b[1;33m)\u001b[0m\u001b[1;33m\u001b[0m\u001b[0m\n\u001b[0m\u001b[0;32m      3\u001b[0m \u001b[0mmae_train\u001b[0m \u001b[1;33m=\u001b[0m \u001b[0mmetrics\u001b[0m\u001b[1;33m.\u001b[0m\u001b[0mmean_absolute_error\u001b[0m\u001b[1;33m(\u001b[0m\u001b[0mdf_train_mean\u001b[0m\u001b[1;33m[\u001b[0m\u001b[1;34m'y'\u001b[0m\u001b[1;33m]\u001b[0m\u001b[1;33m.\u001b[0m\u001b[0mvalues\u001b[0m\u001b[1;33m,\u001b[0m \u001b[0mtrain_predict\u001b[0m\u001b[1;33m)\u001b[0m\u001b[1;33m\u001b[0m\u001b[0m\n\u001b[0;32m      4\u001b[0m \u001b[0mprint\u001b[0m\u001b[1;33m(\u001b[0m\u001b[1;34m\"RMSE on training dataset : %.2f\"\u001b[0m \u001b[1;33m%\u001b[0m \u001b[0mrmse_train\u001b[0m\u001b[1;33m)\u001b[0m\u001b[1;33m\u001b[0m\u001b[0m\n\u001b[0;32m      5\u001b[0m \u001b[0mprint\u001b[0m\u001b[1;33m(\u001b[0m\u001b[1;34m\"MAE on training dataset : %.2f\"\u001b[0m \u001b[1;33m%\u001b[0m \u001b[0mmae_train\u001b[0m\u001b[1;33m)\u001b[0m\u001b[1;33m\u001b[0m\u001b[0m\n",
      "\u001b[1;32m~\\Anaconda3\\lib\\site-packages\\sklearn\\metrics\\regression.py\u001b[0m in \u001b[0;36mmean_squared_error\u001b[1;34m(y_true, y_pred, sample_weight, multioutput)\u001b[0m\n\u001b[0;32m    236\u001b[0m     \"\"\"\n\u001b[0;32m    237\u001b[0m     y_type, y_true, y_pred, multioutput = _check_reg_targets(\n\u001b[1;32m--> 238\u001b[1;33m         y_true, y_pred, multioutput)\n\u001b[0m\u001b[0;32m    239\u001b[0m     output_errors = np.average((y_true - y_pred) ** 2, axis=0,\n\u001b[0;32m    240\u001b[0m                                weights=sample_weight)\n",
      "\u001b[1;32m~\\Anaconda3\\lib\\site-packages\\sklearn\\metrics\\regression.py\u001b[0m in \u001b[0;36m_check_reg_targets\u001b[1;34m(y_true, y_pred, multioutput)\u001b[0m\n\u001b[0;32m     73\u001b[0m \u001b[1;33m\u001b[0m\u001b[0m\n\u001b[0;32m     74\u001b[0m     \"\"\"\n\u001b[1;32m---> 75\u001b[1;33m     \u001b[0mcheck_consistent_length\u001b[0m\u001b[1;33m(\u001b[0m\u001b[0my_true\u001b[0m\u001b[1;33m,\u001b[0m \u001b[0my_pred\u001b[0m\u001b[1;33m)\u001b[0m\u001b[1;33m\u001b[0m\u001b[0m\n\u001b[0m\u001b[0;32m     76\u001b[0m     \u001b[0my_true\u001b[0m \u001b[1;33m=\u001b[0m \u001b[0mcheck_array\u001b[0m\u001b[1;33m(\u001b[0m\u001b[0my_true\u001b[0m\u001b[1;33m,\u001b[0m \u001b[0mensure_2d\u001b[0m\u001b[1;33m=\u001b[0m\u001b[1;32mFalse\u001b[0m\u001b[1;33m)\u001b[0m\u001b[1;33m\u001b[0m\u001b[0m\n\u001b[0;32m     77\u001b[0m     \u001b[0my_pred\u001b[0m \u001b[1;33m=\u001b[0m \u001b[0mcheck_array\u001b[0m\u001b[1;33m(\u001b[0m\u001b[0my_pred\u001b[0m\u001b[1;33m,\u001b[0m \u001b[0mensure_2d\u001b[0m\u001b[1;33m=\u001b[0m\u001b[1;32mFalse\u001b[0m\u001b[1;33m)\u001b[0m\u001b[1;33m\u001b[0m\u001b[0m\n",
      "\u001b[1;32m~\\Anaconda3\\lib\\site-packages\\sklearn\\utils\\validation.py\u001b[0m in \u001b[0;36mcheck_consistent_length\u001b[1;34m(*arrays)\u001b[0m\n\u001b[0;32m    202\u001b[0m     \u001b[1;32mif\u001b[0m \u001b[0mlen\u001b[0m\u001b[1;33m(\u001b[0m\u001b[0muniques\u001b[0m\u001b[1;33m)\u001b[0m \u001b[1;33m>\u001b[0m \u001b[1;36m1\u001b[0m\u001b[1;33m:\u001b[0m\u001b[1;33m\u001b[0m\u001b[0m\n\u001b[0;32m    203\u001b[0m         raise ValueError(\"Found input variables with inconsistent numbers of\"\n\u001b[1;32m--> 204\u001b[1;33m                          \" samples: %r\" % [int(l) for l in lengths])\n\u001b[0m\u001b[0;32m    205\u001b[0m \u001b[1;33m\u001b[0m\u001b[0m\n\u001b[0;32m    206\u001b[0m \u001b[1;33m\u001b[0m\u001b[0m\n",
      "\u001b[1;31mValueError\u001b[0m: Found input variables with inconsistent numbers of samples: [112, 231]"
     ]
    }
   ],
   "source": [
    "train_predict = std_scale.inverse_transform(prophet_model.predict(past_data)['yhat'])\n",
    "rmse_train = math.sqrt(metrics.mean_squared_error(df_train_mean['y'].values, train_predict))\n",
    "mae_train = metrics.mean_absolute_error(df_train_mean['y'].values, train_predict)\n",
    "print(\"RMSE on training dataset : %.2f\" % rmse_train)\n",
    "print(\"MAE on training dataset : %.2f\" % mae_train)"
   ]
  },
  {
   "cell_type": "code",
   "execution_count": null,
   "metadata": {},
   "outputs": [],
   "source": [
    "fig, ax = plt.subplots(figsize=(20,5))\n",
    "plt.plot(past_data['ds'], train_predict)\n",
    "plt.plot(past_data['ds'], df_train_mean['y_ori'])\n",
    "ax.set_xlabel(\"Training Days\")\n",
    "ax.set_ylabel(\"Daily mean delay\");"
   ]
  },
  {
   "cell_type": "code",
   "execution_count": null,
   "metadata": {},
   "outputs": [],
   "source": []
  },
  {
   "cell_type": "code",
   "execution_count": null,
   "metadata": {},
   "outputs": [],
   "source": []
  },
  {
   "cell_type": "code",
   "execution_count": null,
   "metadata": {},
   "outputs": [],
   "source": []
  },
  {
   "cell_type": "code",
   "execution_count": null,
   "metadata": {},
   "outputs": [],
   "source": []
  },
  {
   "cell_type": "code",
   "execution_count": null,
   "metadata": {},
   "outputs": [],
   "source": []
  },
  {
   "cell_type": "code",
   "execution_count": null,
   "metadata": {},
   "outputs": [],
   "source": [
    "# del X, X_train_std, ax1, ax2, data, data_reg, label_airlines, oh_airlines, oh_dep_airport, pred_df, predict_df"
   ]
  },
  {
   "cell_type": "code",
   "execution_count": null,
   "metadata": {},
   "outputs": [],
   "source": [
    "whos"
   ]
  },
  {
   "cell_type": "code",
   "execution_count": null,
   "metadata": {},
   "outputs": [],
   "source": []
  },
  {
   "cell_type": "code",
   "execution_count": null,
   "metadata": {},
   "outputs": [],
   "source": []
  },
  {
   "cell_type": "code",
   "execution_count": null,
   "metadata": {},
   "outputs": [],
   "source": []
  },
  {
   "cell_type": "code",
   "execution_count": null,
   "metadata": {},
   "outputs": [],
   "source": []
  }
 ],
 "metadata": {
  "kernelspec": {
   "display_name": "Python 3",
   "language": "python",
   "name": "python3"
  },
  "language_info": {
   "codemirror_mode": {
    "name": "ipython",
    "version": 3
   },
   "file_extension": ".py",
   "mimetype": "text/x-python",
   "name": "python",
   "nbconvert_exporter": "python",
   "pygments_lexer": "ipython3",
   "version": "3.6.5"
  }
 },
 "nbformat": 4,
 "nbformat_minor": 2
}
